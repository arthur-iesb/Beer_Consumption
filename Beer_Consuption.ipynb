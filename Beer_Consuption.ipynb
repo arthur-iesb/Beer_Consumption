{
  "nbformat": 4,
  "nbformat_minor": 0,
  "metadata": {
    "colab": {
      "name": "Copy of Pima-Indians-Diabetes.ipynb",
      "provenance": [],
      "mount_file_id": "https://github.com/arthur-iesb/Pima-Indians-Diabetes/blob/master/Pima-Indians-Diabetes.ipynb",
      "authorship_tag": "ABX9TyPkHgnDq3n7+n+WhfZs8rdj"
    },
    "kernelspec": {
      "name": "python3",
      "display_name": "Python 3"
    }
  },
  "cells": [
    {
      "cell_type": "markdown",
      "metadata": {
        "id": "LgrKzPCSp676",
        "colab_type": "text"
      },
      "source": [
        "## INFORMAÇÕES DO ALUNO"
      ]
    },
    {
      "cell_type": "code",
      "metadata": {
        "id": "EbWoRD1rp2S_",
        "colab_type": "code",
        "colab": {}
      },
      "source": [
        "'''\n",
        "SOFTWARES PARA USO EM CIÊNCIA DE DADOS II\n",
        "PROJETO 01/03 - Pima Indians Diabetes Database\n",
        "PROFESSOR: NASSER BOAN\n",
        "ALUNO: ARTHUR FARIAS\n",
        "MATRÍCULA: 1931133115\n",
        "'''"
      ],
      "execution_count": 0,
      "outputs": []
    },
    {
      "cell_type": "markdown",
      "metadata": {
        "id": "r0FlQL_sqKsr",
        "colab_type": "text"
      },
      "source": [
        "# IMPORTANDO DATASET E BIBLIOTECAS"
      ]
    },
    {
      "cell_type": "markdown",
      "metadata": {
        "id": "RVwFDKmmqL4N",
        "colab_type": "text"
      },
      "source": [
        "## Bibliotecas"
      ]
    },
    {
      "cell_type": "code",
      "metadata": {
        "id": "6aKJ8NeOqGy7",
        "colab_type": "code",
        "colab": {}
      },
      "source": [
        "## IMPORTANDO AS BIBLIOTECAS QUE SERÃO UTILIZADAS NO PROJETO ##\n",
        "import pandas as pd\n",
        "import numpy as np\n",
        "import datetime\n",
        "import matplotlib.pyplot as plt\n",
        "import seaborn as sns\n",
        "\n",
        "# Comment this if the data visualisations doesn't work on your side\n",
        "# %matplotlib inline\n",
        "\n",
        "# We are using whitegrid style for our seaborn plots. This is like the most basic one\n",
        "sns.set_style(style = 'whitegrid')"
      ],
      "execution_count": 0,
      "outputs": []
    },
    {
      "cell_type": "markdown",
      "metadata": {
        "id": "d3VTeTM0qvsl",
        "colab_type": "text"
      },
      "source": [
        "## Dataset"
      ]
    },
    {
      "cell_type": "code",
      "metadata": {
        "id": "eCwMU1ozqX3L",
        "colab_type": "code",
        "colab": {}
      },
      "source": [
        "## IMPORTANDO A BASE E REALIZANDO OS TRATAMENTOS INICIAIS\n",
        "df = pd.read_csv('/content/drive/My Drive/git/Pima-Indians-Diabetes/data/diabetes.csv',sep=',',encoding='iso-8859-1')\n",
        "df_columns = df.columns\n",
        "df.columns = [x.lower() for x in df.columns]\n",
        "df.head(3)"
      ],
      "execution_count": 0,
      "outputs": []
    },
    {
      "cell_type": "code",
      "metadata": {
        "id": "Yy0AG2H_XeaU",
        "colab_type": "code",
        "colab": {}
      },
      "source": [
        "# DICIONÁRIO DE DADOS\n",
        "\n",
        "'''\n",
        "Pregnancies               Number of times pregnant\n",
        "Glucose                   Plasma glucose concentration a 2 hours in an oral glucose tolerance test\n",
        "BloodPressure             Diastolic blood pressure (mm Hg)\n",
        "SkinThickness             Triceps skin fold thickness (mm)\n",
        "Insulin2                  Hour serum insulin (mu U/ml)\n",
        "BMI                       Body mass index (weight in kg/(height in m)^2)\n",
        "DiabetesPedigreeFunction  Diabetes pedigree function\n",
        "Age                       Age (years)\n",
        "Outcome                   Class variable (0 or 1) 268 of 768 are 1, the others are 0\n",
        "'''"
      ],
      "execution_count": 0,
      "outputs": []
    },
    {
      "cell_type": "markdown",
      "metadata": {
        "id": "pX2U4nBMq--3",
        "colab_type": "text"
      },
      "source": [
        "# ANÁLISE EXPLORATÓRIA"
      ]
    },
    {
      "cell_type": "code",
      "metadata": {
        "id": "ULikslzzrE8w",
        "colab_type": "code",
        "colab": {}
      },
      "source": [
        "# VERIFICANDO O SHAPE DO DATASET E CRIANDO VARIÁVEIS\n",
        "n_rows = df.shape[0]\n",
        "n_cols = df.shape[1]\n",
        "v_cols = df.columns\n",
        "v_answer = 'outcome'\n",
        "print('O Dataset possui' , n_rows, 'linhas e' , n_cols , 'colunas.')"
      ],
      "execution_count": 0,
      "outputs": []
    },
    {
      "cell_type": "code",
      "metadata": {
        "id": "oU9YRAVmqFLF",
        "colab_type": "code",
        "colab": {}
      },
      "source": [
        "# VERIFICANDO INFORMAÇÕES DO DATASET\n",
        "df.info(verbose=True)"
      ],
      "execution_count": 0,
      "outputs": []
    },
    {
      "cell_type": "code",
      "metadata": {
        "id": "wZyoAabyq0aJ",
        "colab_type": "code",
        "colab": {}
      },
      "source": [
        "# IDENTIFICANDO VALORES NULOS\n",
        "if df.isnull().values.any() == True:\n",
        "  print(df.isna().sum(), '\\n\\n\\nVALORES PERCENTUAIS DE NULO\\n')\n",
        "  print((df.isnull().sum()/n_rows).round(2)*100)\n",
        "else:\n",
        "  print('O Dataset não possui valores nulos.')"
      ],
      "execution_count": 0,
      "outputs": []
    },
    {
      "cell_type": "code",
      "metadata": {
        "id": "aOngGIafrKFa",
        "colab_type": "code",
        "colab": {}
      },
      "source": [
        "# CRIANDO DATASET'S PARA VARIÁVEIS CATEGORICAS - CASO EXISTAM\n",
        "df_cat = df.select_dtypes(include = 'object').copy()\n",
        "df_cat.head(3)"
      ],
      "execution_count": 0,
      "outputs": []
    },
    {
      "cell_type": "code",
      "metadata": {
        "id": "fA2aD9Hdrkoz",
        "colab_type": "code",
        "colab": {}
      },
      "source": [
        "# NÚMERO DE VALORES DISTINTOS NAS VARIÁVEIS\n",
        "print(df.nunique(),'\\n\\nRELAÇÃO DE VARIÁVEIS COM MENOS ATÉ 20 VALORES DISTINTOS')\n",
        "\n",
        "for i in v_cols:\n",
        "  if df[i].nunique() <= 20:\n",
        "    print(i,sorted(df[i].unique()))\n",
        "#    print(df[i].value_counts(dropna=False))"
      ],
      "execution_count": 0,
      "outputs": []
    },
    {
      "cell_type": "code",
      "metadata": {
        "id": "B9QWor-860_h",
        "colab_type": "code",
        "colab": {}
      },
      "source": [
        "# ESTATISTICA DESCRITIVA DOS DADOS\n",
        "df.describe(include='all').round(2)"
      ],
      "execution_count": 0,
      "outputs": []
    },
    {
      "cell_type": "code",
      "metadata": {
        "id": "_IHqymG98Bv2",
        "colab_type": "code",
        "colab": {}
      },
      "source": [
        "# ALTERANDO A VISÃO PARA MELHORAR A VISUALIZAÇÃO\n",
        "df.describe(include='all').round(2).T"
      ],
      "execution_count": 0,
      "outputs": []
    },
    {
      "cell_type": "code",
      "metadata": {
        "id": "1AjVUBzj8Z-W",
        "colab_type": "code",
        "colab": {}
      },
      "source": [
        "# GRÁFICO COM A DISTRIBUIÇÃO DOS VALORES\n",
        "gr_dist = df.hist(figsize = (20,15))"
      ],
      "execution_count": 0,
      "outputs": []
    },
    {
      "cell_type": "code",
      "metadata": {
        "id": "j9p4frMN92MB",
        "colab_type": "code",
        "colab": {}
      },
      "source": [
        "# BOX-PLOT DAS VARIÁVEIS EM BUSCA DE OUTLIERS\n",
        "ix = 1\n",
        "fig = plt.figure(figsize = (15,10))\n",
        "for c in list(v_cols):\n",
        "    if ix <= 3:\n",
        "      ax1 = fig.add_subplot(2,3,ix)\n",
        "      sns.boxplot(y=df[c], ax=ax1)\n",
        "      ax1.set_title('Box plot - {}'.format(c), fontsize=10)\n",
        "      ax1.set_xlabel(c, fontsize=8)\n",
        "    ix = ix +1\n",
        "    if ix == 4: \n",
        "        fig = plt.figure(figsize = (15,10))\n",
        "        ix =1"
      ],
      "execution_count": 0,
      "outputs": []
    },
    {
      "cell_type": "code",
      "metadata": {
        "id": "LQ4W0ljK_2up",
        "colab_type": "code",
        "colab": {}
      },
      "source": [
        "# VERIFICANDO A CORRELAÇÃO ENTRE AS VARIÁVEIS\n",
        "plt.figure(figsize=(15,3))\n",
        "sns.heatmap(df.corr(),annot=True)"
      ],
      "execution_count": 0,
      "outputs": []
    },
    {
      "cell_type": "code",
      "metadata": {
        "id": "BVevhxaq_3HI",
        "colab_type": "code",
        "colab": {}
      },
      "source": [
        ""
      ],
      "execution_count": 0,
      "outputs": []
    },
    {
      "cell_type": "code",
      "metadata": {
        "id": "ATKug1QzR3se",
        "colab_type": "code",
        "colab": {}
      },
      "source": [
        ""
      ],
      "execution_count": 0,
      "outputs": []
    },
    {
      "cell_type": "code",
      "metadata": {
        "id": "zTSFTvoCR33O",
        "colab_type": "code",
        "colab": {}
      },
      "source": [
        ""
      ],
      "execution_count": 0,
      "outputs": []
    },
    {
      "cell_type": "code",
      "metadata": {
        "id": "DJsDM510R39r",
        "colab_type": "code",
        "colab": {}
      },
      "source": [
        ""
      ],
      "execution_count": 0,
      "outputs": []
    },
    {
      "cell_type": "code",
      "metadata": {
        "id": "WFFf9S-AR4Dk",
        "colab_type": "code",
        "colab": {}
      },
      "source": [
        ""
      ],
      "execution_count": 0,
      "outputs": []
    },
    {
      "cell_type": "code",
      "metadata": {
        "id": "170INkmzR4Jd",
        "colab_type": "code",
        "colab": {}
      },
      "source": [
        ""
      ],
      "execution_count": 0,
      "outputs": []
    },
    {
      "cell_type": "code",
      "metadata": {
        "id": "F7e_WPvBR4PV",
        "colab_type": "code",
        "colab": {}
      },
      "source": [
        ""
      ],
      "execution_count": 0,
      "outputs": []
    },
    {
      "cell_type": "code",
      "metadata": {
        "id": "RRWlebwg_3Sp",
        "colab_type": "code",
        "colab": {}
      },
      "source": [
        ""
      ],
      "execution_count": 0,
      "outputs": []
    },
    {
      "cell_type": "code",
      "metadata": {
        "id": "M8WQn0e7R5aX",
        "colab_type": "code",
        "colab": {}
      },
      "source": [
        ""
      ],
      "execution_count": 0,
      "outputs": []
    },
    {
      "cell_type": "markdown",
      "metadata": {
        "id": "LVOSyxKaSaSd",
        "colab_type": "text"
      },
      "source": [
        "# PONTOS ADICIONAIS QUE PODEM SER ÚTEIS"
      ]
    },
    {
      "cell_type": "code",
      "metadata": {
        "id": "EayfuBgz_3bY",
        "colab_type": "code",
        "colab": {}
      },
      "source": [
        "# OPÇÕES DE TRANSFORMAR OS VALORES DE UMA COLUNA EM LETRAS MINUSCULAS\n",
        "df['A'] = df['A'].str.lower()\n",
        "df['A'].apply(lambda x: x.lower()) \n",
        "data.columns = [x.lower() for x in data.columns]\n",
        "df.columns = map(str.lower, df.columns)"
      ],
      "execution_count": 0,
      "outputs": []
    },
    {
      "cell_type": "code",
      "metadata": {
        "id": "lMbJ33vI_ult",
        "colab_type": "code",
        "colab": {}
      },
      "source": [
        "# GRÁFICO DE DISTRIBUIÇÃO, MAS ME PARECE SER MAIS INTERESSANTE PARA VARIÁVEIS CATEGORICAS\n",
        "ix = 1\n",
        "fig = plt.figure(figsize = (15,10))\n",
        "for c in list(df.columns):\n",
        "    if ix <= 3:\n",
        "        if c != 'Outcome':\n",
        "            ax1 = fig.add_subplot(2,3,ix)\n",
        "            sns.countplot(data = df, x=c, ax = ax1)\n",
        "            #ax2 = fig.add_subplot(2,3,ix+3)\n",
        "            #sns.boxplot(data=df, x=c, y='Outcome', ax=ax2)\n",
        "            #sns.violinplot(data=df, x=c, y='Outcome', ax=ax2)\n",
        "            #sns.swarmplot(data = df, x=c, y ='Outcome', color = 'k', alpha = 0.4, ax=ax2)\n",
        "            \n",
        "    ix = ix +1\n",
        "    if ix == 4: \n",
        "        fig = plt.figure(figsize = (15,10))\n",
        "        ix =1"
      ],
      "execution_count": 0,
      "outputs": []
    },
    {
      "cell_type": "code",
      "metadata": {
        "id": "gEeFCgAoEhdo",
        "colab_type": "code",
        "colab": {}
      },
      "source": [
        "#@title Apresentando um relatório geral dos dados e ordenando pelo percentual de missing values\n",
        "df_stats = pd.DataFrame(columns = ['column', 'values', 'values_count_inc_na', 'values_count', 'num_miss', 'pct_miss'])\n",
        "tmp = pd.DataFrame()\n",
        "for c in df.columns:\n",
        "    tmp['column'] = [c]\n",
        "    tmp['values'] = [df[c].unique()]\n",
        "    tmp['values_count_inc_na'] = len(list(df[c].unique()))\n",
        "    tmp['values_count'] = int(df[c].nunique())\n",
        "    tmp['num_miss'] = df[c].isnull().sum()\n",
        "    tmp['pct_miss'] = (df[c].isnull().sum()/ len(df)).round(3)*100\n",
        "    df_stats = df_stats.append(tmp)\n",
        "\n",
        "df_stats.sort_values(by = 'pct_miss', inplace = True, ascending = True)    \n",
        "df_stats"
      ],
      "execution_count": 0,
      "outputs": []
    },
    {
      "cell_type": "code",
      "metadata": {
        "id": "AnSDDqzBEiBI",
        "colab_type": "code",
        "colab": {}
      },
      "source": [
        "# VERIFICA A RELAÇÃO DA VARIÁVEL INDEPENDENTE COM A VARIÁVEL RESPOSTA\n",
        "sns.boxplot(data = df, x='age', y='outcome')"
      ],
      "execution_count": 0,
      "outputs": []
    },
    {
      "cell_type": "code",
      "metadata": {
        "id": "cV7wv94FEia4",
        "colab_type": "code",
        "colab": {}
      },
      "source": [
        "# GRÁFICO PARA IDENTIFICAÇÃO DE OUTLIERS\n",
        "def percentile_based_outlier(data, threshold=95):\n",
        "    diff = (100 - threshold) / 2\n",
        "    minval, maxval = np.percentile(data, [diff, 100 - diff])\n",
        "    return (data < minval) | (data > maxval)\n",
        "\n",
        "col_names = v_cols\n",
        "\n",
        "fig, ax = plt.subplots(len(col_names), figsize=(8,40))\n",
        "\n",
        "for i, col_val in enumerate(col_names):\n",
        "    x = df[col_val][:1000]\n",
        "    sns.distplot(x, ax=ax[i], rug=True, hist=False)\n",
        "    outliers = x[percentile_based_outlier(x)]\n",
        "    ax[i].plot(outliers, np.zeros_like(outliers), 'ro', clip_on=False)\n",
        "\n",
        "    ax[i].set_title('Outlier detection - {}'.format(col_val), fontsize=10)\n",
        "    ax[i].set_xlabel(col_val, fontsize=8)\n",
        "\n",
        "plt.show()"
      ],
      "execution_count": 0,
      "outputs": []
    },
    {
      "cell_type": "code",
      "metadata": {
        "id": "ZkXzKYkIEivY",
        "colab_type": "code",
        "colab": {}
      },
      "source": [
        "# Keep only the rows with at least 4 non-na values\n",
        "df.dropna(thresh = 4,inplace = True)"
      ],
      "execution_count": 0,
      "outputs": []
    },
    {
      "cell_type": "code",
      "metadata": {
        "id": "LPFuilqhEi1t",
        "colab_type": "code",
        "colab": {}
      },
      "source": [
        ""
      ],
      "execution_count": 0,
      "outputs": []
    },
    {
      "cell_type": "code",
      "metadata": {
        "id": "vtU3rmHXEi7n",
        "colab_type": "code",
        "colab": {}
      },
      "source": [
        ""
      ],
      "execution_count": 0,
      "outputs": []
    },
    {
      "cell_type": "code",
      "metadata": {
        "id": "a2eOQivSEi_m",
        "colab_type": "code",
        "colab": {}
      },
      "source": [
        ""
      ],
      "execution_count": 0,
      "outputs": []
    }
  ]
}