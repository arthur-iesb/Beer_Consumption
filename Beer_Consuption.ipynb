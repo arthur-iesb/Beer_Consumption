{
  "nbformat": 4,
  "nbformat_minor": 0,
  "metadata": {
    "colab": {
      "name": "Beer_Consumption.ipynb",
      "provenance": []
    },
    "kernelspec": {
      "name": "python3",
      "display_name": "Python 3"
    }
  },
  "cells": [
    {
      "cell_type": "markdown",
      "metadata": {
        "id": "LgrKzPCSp676",
        "colab_type": "text"
      },
      "source": [
        "## INFORMAÇÕES DO ALUNO"
      ]
    },
    {
      "cell_type": "code",
      "metadata": {
        "id": "EbWoRD1rp2S_",
        "colab_type": "code",
        "colab": {}
      },
      "source": [
        "'''\n",
        "SOFTWARES PARA USO EM CIÊNCIA DE DADOS II\n",
        "PROJETO 02/02 - Beer Consumption\n",
        "PROFESSOR: NASSER BOAN\n",
        "ALUNO: ARTHUR FARIAS\n",
        "MATRÍCULA: 1931133115\n",
        "'''"
      ],
      "execution_count": 0,
      "outputs": []
    },
    {
      "cell_type": "markdown",
      "metadata": {
        "id": "GHk7VA0fEnK5",
        "colab_type": "text"
      },
      "source": [
        "# RESUMO E RESULTADOS"
      ]
    },
    {
      "cell_type": "code",
      "metadata": {
        "id": "Lt6L_NMQEmaa",
        "colab_type": "code",
        "colab": {}
      },
      "source": [
        "'''\n",
        "\n",
        "Este projeto objetiva predizer o consumo de cerveja pra cidade de São Paulo com base em algumas informações \n",
        "disponibilizadas.\n",
        "Após avaliação inicial do nosso arquivo de dados, verificamos que as configurações regionais não seguiam os padrões. \n",
        "Assim, a importação dos dados foi realizada definindo que todas as variáveis seriam do tipo \"string\" e que uma \n",
        "posterior adequação seria feita. Também foi realizada uma renomeação das variáveis para facilitar o trabalho.\n",
        "\n",
        "Iniciando o processo de análise exploratória dos dados, foram identificados muitos dados \"missing\". Com isso, optamos\n",
        "por eliminar as linhas onde todas as variáveis tivessem valores nulos. Em seguida iniciando o tratamento das colunas, \n",
        "adequando-as para que pudessem ser transformadas em \"data types\" de tipos mais adequados para modelos de Regressão linear.\n",
        "Realizemos também a criação de novas \"features\" que posteriormente não se mostraram promissoras na explicação que desejávamos.\n",
        "Por fim, dentro deste subtópico, apesar do box-plot indicar possíveis outliers para algumas variáveis, os testes com \n",
        "filtros não melhoraram nosso resultado.\n",
        "\n",
        "Uma vez definidas as variáveis que comporiam o modelo, iniciamos as regressões:\n",
        "\n",
        "Na Regressão Linear Simples a variável temperatura máxima foi a que melhor explicou o consumo de cerveja obtendo precisão\n",
        "pouco superior a 41%.\n",
        "Na Regressão Linear Múltipla o resultado foi de 65,6% de acerto na partição de teste e 70,7% no treino. O que já era um\n",
        "resultado melhor do que na Regressão Linear Simples.\n",
        "Por fim, na Regressão Polinomial o grau 2 foi o que apresentou uma leve melhora, elevando o resultado de teste e treino para\n",
        "65,8% e 70,8% respectivamente, sendo o melhor resultado do projeto.\n",
        "\n",
        "Assim, nosso modelo apesar de não acertar numa faixa excelente, apresenta-se sem vícios e com bom nível de precisão.\n",
        "\n",
        "'''"
      ],
      "execution_count": 0,
      "outputs": []
    },
    {
      "cell_type": "markdown",
      "metadata": {
        "id": "r0FlQL_sqKsr",
        "colab_type": "text"
      },
      "source": [
        "# IMPORTANDO DATASET E BIBLIOTECAS"
      ]
    },
    {
      "cell_type": "markdown",
      "metadata": {
        "id": "RVwFDKmmqL4N",
        "colab_type": "text"
      },
      "source": [
        "## Bibliotecas"
      ]
    },
    {
      "cell_type": "code",
      "metadata": {
        "id": "6aKJ8NeOqGy7",
        "colab_type": "code",
        "colab": {
          "base_uri": "https://localhost:8080/",
          "height": 51
        },
        "outputId": "161013b6-1f99-4f45-b3bf-ab0b7854d856"
      },
      "source": [
        "## IMPORTANDO AS BIBLIOTECAS QUE SERÃO UTILIZADAS NO PROJETO ##\n",
        "import pandas as pd\n",
        "import numpy as np\n",
        "import datetime\n",
        "import matplotlib.pyplot as plt\n",
        "import seaborn as sns\n",
        "from sklearn.linear_model import LinearRegression\n",
        "from sklearn.metrics import mean_squared_error,r2_score\n",
        "from sklearn.model_selection import train_test_split\n",
        "from sklearn.preprocessing import PolynomialFeatures\n",
        "from sklearn.model_selection import cross_val_score,train_test_split\n",
        "\n",
        "# Comment this if the data visualisations doesn't work on your side\n",
        "# %matplotlib inline\n",
        "\n",
        "# We are using whitegrid style for our seaborn plots. This is like the most basic one\n",
        "sns.set_style(style = 'whitegrid')"
      ],
      "execution_count": 1,
      "outputs": [
        {
          "output_type": "stream",
          "text": [
            "/usr/local/lib/python3.6/dist-packages/statsmodels/tools/_testing.py:19: FutureWarning: pandas.util.testing is deprecated. Use the functions in the public API at pandas.testing instead.\n",
            "  import pandas.util.testing as tm\n"
          ],
          "name": "stderr"
        }
      ]
    },
    {
      "cell_type": "code",
      "metadata": {
        "id": "cQFecO-tt4R2",
        "colab_type": "code",
        "colab": {}
      },
      "source": [
        "# SE O GOOGLE DRIVE NÃO QUISER MONTAR\n",
        "from google.colab import drive\n",
        "drive.mount('/content/drive')\n",
        "#4/zQErY0XYvMT8e9M6WUlfE75iFXPdCAL-FdCOd2ecZLxtibMqDqsN39c"
      ],
      "execution_count": 0,
      "outputs": []
    },
    {
      "cell_type": "markdown",
      "metadata": {
        "id": "d3VTeTM0qvsl",
        "colab_type": "text"
      },
      "source": [
        "## Dataset"
      ]
    },
    {
      "cell_type": "code",
      "metadata": {
        "id": "eCwMU1ozqX3L",
        "colab_type": "code",
        "colab": {}
      },
      "source": [
        "## IMPORTANDO A BASE E REALIZANDO OS TRATAMENTOS INICIAIS\n",
        "df = pd.read_csv('/content/drive/My Drive/git/Beer_Consumption/data/Consumo_cerveja.csv',sep=',',encoding='iso-8859-1', dtype=str)\n",
        "df.columns = [x.lower() for x in df.columns]\n",
        "df_columns = df.columns\n",
        "df.head(3)"
      ],
      "execution_count": 0,
      "outputs": []
    },
    {
      "cell_type": "code",
      "metadata": {
        "id": "y45vRf_24hc7",
        "colab_type": "code",
        "colab": {}
      },
      "source": [
        "# MELHORANDO O NOME DAS VARIÁVEIS\n",
        "df.columns = ['data', 't_media', 't_minima', 't_maxima', 'precipitacao', 'fim_semana', 'consumo']\n",
        "df_columns = df.columns\n",
        "df.head(3)"
      ],
      "execution_count": 0,
      "outputs": []
    },
    {
      "cell_type": "code",
      "metadata": {
        "id": "Yy0AG2H_XeaU",
        "colab_type": "code",
        "colab": {}
      },
      "source": [
        "# DICIONÁRIO DE DADOS\n",
        "\n",
        "'''\n",
        "data            Data\n",
        "t_media         Temperatura Media (C)\n",
        "t_minima        Temperatura Minima (C)\n",
        "t_maxima        Temperatura Maxima (C)\n",
        "precipitacao    Precipitacao (mm)\n",
        "fim_semana      Final de Semana\n",
        "consumo         Consumo de cerveja (litros)\n",
        "'''"
      ],
      "execution_count": 0,
      "outputs": []
    },
    {
      "cell_type": "markdown",
      "metadata": {
        "id": "pX2U4nBMq--3",
        "colab_type": "text"
      },
      "source": [
        "# ANÁLISE EXPLORATÓRIA"
      ]
    },
    {
      "cell_type": "code",
      "metadata": {
        "id": "ULikslzzrE8w",
        "colab_type": "code",
        "colab": {}
      },
      "source": [
        "# VERIFICANDO O SHAPE DO DATASET E CRIANDO VARIÁVEIS\n",
        "n_rows    = df.shape[0]\n",
        "n_cols    = df.shape[1]\n",
        "v_cols    = df.columns\n",
        "v_answer  = 'consumo'\n",
        "\n",
        "print('O Dataset possui' , n_rows, 'linhas e' , n_cols , 'colunas.')"
      ],
      "execution_count": 0,
      "outputs": []
    },
    {
      "cell_type": "code",
      "metadata": {
        "id": "wZyoAabyq0aJ",
        "colab_type": "code",
        "colab": {}
      },
      "source": [
        "# IDENTIFICANDO VALORES NULOS\n",
        "if df.isnull().values.any() == True:\n",
        "  print(df.isna().sum(), '\\n\\n\\nVALORES PERCENTUAIS DE NULO\\n')\n",
        "  print((df.isnull().sum()/n_rows).round(2)*100)\n",
        "else:\n",
        "  print('O Dataset não possui valores nulos.')"
      ],
      "execution_count": 0,
      "outputs": []
    },
    {
      "cell_type": "code",
      "metadata": {
        "id": "LURij32iusDr",
        "colab_type": "code",
        "colab": {}
      },
      "source": [
        "# REMOVENDO AS LINHAS ONDE TODAS AS VARIÁVEIS TIVEREM VALORES NULO\n",
        "df = df.dropna(thresh=7)"
      ],
      "execution_count": 0,
      "outputs": []
    },
    {
      "cell_type": "code",
      "metadata": {
        "id": "YNG27OmpvaLM",
        "colab_type": "code",
        "colab": {}
      },
      "source": [
        "# IDENTIFICANDO VALORES NULOS\n",
        "if df.isnull().values.any() == True:\n",
        "  print(df.isna().sum(), '\\n\\n\\nVALORES PERCENTUAIS DE NULO\\n')\n",
        "  print((df.isnull().sum()/n_rows).round(2)*100)\n",
        "else:\n",
        "  print('O Dataset não possui valores nulos.')"
      ],
      "execution_count": 0,
      "outputs": []
    },
    {
      "cell_type": "code",
      "metadata": {
        "id": "a1zqlsc41IxC",
        "colab_type": "code",
        "colab": {}
      },
      "source": [
        "# VERIFICANDO INFORMAÇÕES DO DATASET\n",
        "df.info(verbose=True)"
      ],
      "execution_count": 0,
      "outputs": []
    },
    {
      "cell_type": "code",
      "metadata": {
        "id": "LY9k5dA0znEZ",
        "colab_type": "code",
        "colab": {}
      },
      "source": [
        "# AJUSTANDO AS INFORMAÇÕES PARA O PADRÃO IMPERIAL\n",
        "# MODIFICANDO OS TIPOS DE VARIÁVEIS\n",
        "df['consumo']       = [x.replace('.', '') for x in df['consumo']]\n",
        "df['t_media']       = [x.replace(',', '.') for x in df['t_media']]\n",
        "df['t_minima']      = [x.replace(',', '.') for x in df['t_minima']]\n",
        "df['t_maxima']      = [x.replace(',', '.') for x in df['t_maxima']]\n",
        "df['precipitacao']  = [x.replace(',', '.') for x in df['precipitacao']]\n",
        "\n",
        "df['data']          = pd.to_datetime(df.data, format='%Y-%m-%d')\n",
        "df['t_media']       = df['t_media'].astype('float64')\n",
        "df['t_minima']      = df['t_minima'].astype('float64')\n",
        "df['t_maxima']      = df['t_maxima'].astype('float64')\n",
        "df['precipitacao']  = df['precipitacao'].astype('float64')\n",
        "df['fim_semana']    = df['fim_semana'].astype('int64')\n",
        "df['consumo']       = df['consumo'].astype('int64')"
      ],
      "execution_count": 0,
      "outputs": []
    },
    {
      "cell_type": "code",
      "metadata": {
        "id": "b1QVCgRf508f",
        "colab_type": "code",
        "colab": {}
      },
      "source": [
        "# VERIFICANDO INFORMAÇÕES DO DATASET\n",
        "df.info(verbose=True)"
      ],
      "execution_count": 0,
      "outputs": []
    },
    {
      "cell_type": "code",
      "metadata": {
        "id": "fA2aD9Hdrkoz",
        "colab_type": "code",
        "colab": {}
      },
      "source": [
        "# NÚMERO DE VALORES DISTINTOS NAS VARIÁVEIS\n",
        "print(df.nunique(),'\\n\\nRELAÇÃO DE VARIÁVEIS COM ATÉ 20 VALORES DISTINTOS')\n",
        "\n",
        "for i in v_cols:\n",
        "  if df[i].nunique() <= 20:\n",
        "    print(i,sorted(df[i].unique()))\n",
        "#    print(df[i].value_counts(dropna=False))"
      ],
      "execution_count": 0,
      "outputs": []
    },
    {
      "cell_type": "code",
      "metadata": {
        "id": "NDEV50ZUlVmN",
        "colab_type": "code",
        "colab": {}
      },
      "source": [
        "# CRIAÇÃO DE NOVAS FEATURES\n",
        "df['data_dia']        = df['data'].dt.day\n",
        "df['data_mes']        = df['data'].dt.month\n",
        "df['data_nrsemana']   = df['data'].dt.week\n",
        "df['data_diasemana']  = df['data'].dt.dayofweek\n",
        "df['choveu']          = np.where(df['precipitacao'] > 0 , 1, 0)\n",
        "df['chuva_fraca']     = np.where(((df['precipitacao'] > 0) & (df['precipitacao'] < 10)) , 1, 0)\n",
        "df['chuva_moderada']  = np.where(((df['precipitacao'] >= 10) & (df['precipitacao'] < 20)) , 1, 0)\n",
        "df['chuva_forte']     = np.where(((df['precipitacao'] >= 20) & (df['precipitacao'] < 30)) , 1, 0)\n",
        "df['temporal']        = np.where(df['precipitacao'] >= 30 , 1, 0)"
      ],
      "execution_count": 0,
      "outputs": []
    },
    {
      "cell_type": "code",
      "metadata": {
        "id": "B9QWor-860_h",
        "colab_type": "code",
        "colab": {}
      },
      "source": [
        "# ESTATISTICA DESCRITIVA DOS DADOS\n",
        "df.describe().round(2)"
      ],
      "execution_count": 0,
      "outputs": []
    },
    {
      "cell_type": "code",
      "metadata": {
        "id": "_IHqymG98Bv2",
        "colab_type": "code",
        "colab": {}
      },
      "source": [
        "# ALTERANDO A VISÃO PARA MELHORAR A VISUALIZAÇÃO\n",
        "df.describe().round(2).T"
      ],
      "execution_count": 0,
      "outputs": []
    },
    {
      "cell_type": "code",
      "metadata": {
        "id": "1AjVUBzj8Z-W",
        "colab_type": "code",
        "colab": {}
      },
      "source": [
        "# GRÁFICO COM A DISTRIBUIÇÃO DOS VALORES\n",
        "gr_dist = df.hist(figsize = (20,10))"
      ],
      "execution_count": 0,
      "outputs": []
    },
    {
      "cell_type": "code",
      "metadata": {
        "id": "j9p4frMN92MB",
        "colab_type": "code",
        "colab": {}
      },
      "source": [
        "# BOX-PLOT DAS VARIÁVEIS EM BUSCA DE OUTLIERS\n",
        "ix = 1\n",
        "fig = plt.figure(figsize = (15,10))\n",
        "for c in list(v_cols_num):\n",
        "    if ix <= 3:\n",
        "      ax1 = fig.add_subplot(2,3,ix)\n",
        "      sns.boxplot(y=df[c], ax=ax1)\n",
        "      ax1.set_title('Box plot - {}'.format(c), fontsize=10)\n",
        "      ax1.set_xlabel(c, fontsize=8)\n",
        "    ix = ix +1\n",
        "    if ix == 4: \n",
        "        fig = plt.figure(figsize = (15,10))\n",
        "        ix =1"
      ],
      "execution_count": 0,
      "outputs": []
    },
    {
      "cell_type": "code",
      "metadata": {
        "id": "rHBSvkviVDdy",
        "colab_type": "code",
        "colab": {}
      },
      "source": [
        "# AVALIAÇÃO DOS LIMITES\n",
        "for i in v_cols_num:\n",
        "  factor = 3\n",
        "  iq = np.quantile(df[i], .75) - np.quantile(df[i], .25)\n",
        "  upper_lim = np.quantile(df[i], .75) + iq * factor\n",
        "  lower_lim = np.quantile(df[i], .25) - iq * factor\n",
        "  v_cont_u = (df[i][(df[i] < upper_lim)].count()) - n_rows\n",
        "  v_cont_l = (df[i][(df[i] > lower_lim)].count()) - n_rows\n",
        "  print('Se aplicado a regra de UPPER INNER FENCE a variável',i,'eliminará',v_cont_u,'linhas.',iq,upper_lim,lower_lim)\n",
        "  print('Se aplicado a regra de LOWER INNER FENCE a variável',i,'eliminará',v_cont_l,'linhas.')"
      ],
      "execution_count": 0,
      "outputs": []
    },
    {
      "cell_type": "code",
      "metadata": {
        "id": "LQ4W0ljK_2up",
        "colab_type": "code",
        "colab": {}
      },
      "source": [
        "# VERIFICANDO A CORRELAÇÃO ENTRE AS VARIÁVEIS\n",
        "plt.figure(figsize=(20,5))\n",
        "sns.heatmap(df.corr(),annot=True)"
      ],
      "execution_count": 0,
      "outputs": []
    },
    {
      "cell_type": "code",
      "metadata": {
        "id": "Uur2VzYPoxAU",
        "colab_type": "code",
        "colab": {}
      },
      "source": [
        "# PELA MATRIZ DE CORRELAÇÃO ELIMINAMOS AS VARIÁVIES COM CORRELAÇÃO MUITO FRACA, INFERIOR A .20\n",
        "df_tmp = df[['t_media','t_minima','t_maxima','fim_semana','data_diasemana','consumo']]"
      ],
      "execution_count": 0,
      "outputs": []
    },
    {
      "cell_type": "code",
      "metadata": {
        "id": "WRM41d9bpy0S",
        "colab_type": "code",
        "colab": {}
      },
      "source": [
        "# VERIFICANDO A CORRELAÇÃO ENTRE AS VARIÁVEIS\n",
        "plt.figure(figsize=(20,5))\n",
        "sns.heatmap(df_tmp.corr(),annot=True)"
      ],
      "execution_count": 0,
      "outputs": []
    },
    {
      "cell_type": "code",
      "metadata": {
        "id": "XpqW7rUEqBrQ",
        "colab_type": "code",
        "colab": {}
      },
      "source": [
        "# ELIMINAMOS AS VARIAVEIS COM ALTA CORRELAÇÃO ENTRE SI, SUPERIOR A .80\n",
        "df1 = df_tmp[['t_maxima','t_minima','fim_semana','consumo']]"
      ],
      "execution_count": 0,
      "outputs": []
    },
    {
      "cell_type": "code",
      "metadata": {
        "id": "-ZWAB04CtUP4",
        "colab_type": "code",
        "colab": {}
      },
      "source": [
        "# CRIANDO VARIAVEIS POR CATEGORIA DA COLUNA\n",
        "v_cols_num = []\n",
        "v_cols_other = []\n",
        "for i in df1.columns:\n",
        "    if(df1[i].dtype == \"float64\" or df1[i].dtype == \"int64\"):\n",
        "          v_cols_num.append(i)\n",
        "    else:\n",
        "          v_cols_other.append(i)\n",
        "print('\\t',v_cols_num,'\\n\\t',v_cols_other)"
      ],
      "execution_count": 0,
      "outputs": []
    },
    {
      "cell_type": "code",
      "metadata": {
        "id": "BVevhxaq_3HI",
        "colab_type": "code",
        "colab": {}
      },
      "source": [
        "# VERIFICANDO A RELAÇÃO DAS VARIÁVEIS INDEPENDENTES COM A VARIÁVEL DEPENDENTE\n",
        "ix = 1\n",
        "fig = plt.figure(figsize = (15,10))\n",
        "for c in list(v_cols_num):\n",
        "    if ix <= 3:\n",
        "      if c != v_answer:\n",
        "        ax1 = fig.add_subplot(2,3,ix)\n",
        "        sns.scatterplot(x=df1[c],y=df1[v_answer],s=100)\n",
        "    ix = ix +1\n",
        "    if ix == 4: \n",
        "        fig = plt.figure(figsize = (15,10))\n",
        "        ix =1"
      ],
      "execution_count": 0,
      "outputs": []
    },
    {
      "cell_type": "markdown",
      "metadata": {
        "id": "WaW6B74FC_aa",
        "colab_type": "text"
      },
      "source": [
        "# REGRESSÃO LINEAR SIMPLES"
      ]
    },
    {
      "cell_type": "code",
      "metadata": {
        "id": "DJsDM510R39r",
        "colab_type": "code",
        "colab": {}
      },
      "source": [
        "# REGRESSÃO LINEAR SIMPLES\n",
        "lr_s  = LinearRegression()\n",
        "y     = df1[v_answer]\n",
        "\n",
        "for a,i in enumerate(v_cols_num):\n",
        "  if i != v_answer:\n",
        "    v_x = df1[i].values.reshape(-1,1)\n",
        "    lr_s.fit(v_x,y)\n",
        "    v_erro = mean_squared_error(y,lr_s.predict(v_x))\n",
        "    r2 = r2_score(y,lr_s.predict(v_x)).round(3)\n",
        "    v2_erro = round(np.sqrt(v_erro),2)\n",
        "    print(i.upper(),'\\nMeu erro foi de\\t\\t',round(v_erro,2),'\\nErro na mesma escala\\t',v2_erro,'\\nA precisão foi de\\t',r2,'\\n\\t\\t\\t',lr_s.coef_,lr_s.intercept_,'\\n')\n",
        "    if a == 0:\n",
        "      vs_erro = v2_erro\n",
        "      vs_param = i\n",
        "      vs_r = r2\n",
        "    else:\n",
        "      if v2_erro < vs_erro:\n",
        "        vs_erro = v2_erro\n",
        "        vs_param = i\n",
        "        vs_r = r2\n",
        "\n",
        "print('Meu melhor parametro na regressão linear simples foi',vs_param,'com um erro de',vs_erro,'e precisão de',vs_r)"
      ],
      "execution_count": 0,
      "outputs": []
    },
    {
      "cell_type": "code",
      "metadata": {
        "id": "m2gmibN9AuOU",
        "colab_type": "code",
        "colab": {}
      },
      "source": [
        "# REGRESSÃO LINEAR SIMPLES - GRÁFICO\n",
        "for i in v_cols_num:\n",
        "  if i != v_answer:\n",
        "    v_x = df1[i].values.reshape(-1,1)\n",
        "    lr_s.fit(v_x,y)\n",
        "    \n",
        "    y_pred= [lr_s.predict([[x]])[0] for x in df1[i]]\n",
        "    plt.figure(figsize=(8,4))\n",
        "    sns.scatterplot(x=df1[i],y=y,s=100)\n",
        "    sns.lineplot(x=df1[i],y=y_pred,color='tab:orange')\n",
        "    plt.show"
      ],
      "execution_count": 0,
      "outputs": []
    },
    {
      "cell_type": "markdown",
      "metadata": {
        "id": "B24IoXUADEw4",
        "colab_type": "text"
      },
      "source": [
        "# REGRESSÃO LINEAR MÚLTIPLA"
      ]
    },
    {
      "cell_type": "code",
      "metadata": {
        "id": "kD332C0gGU61",
        "colab_type": "code",
        "colab": {}
      },
      "source": [
        "# CRIANDO DATASET'S DE TREINO E TESTE - TIMESTAMP NÃO É UMA COLUNA ACEITA NA REGRESSÃO\n",
        "x = df1.drop([v_answer], axis=1)\n",
        "y = df1[v_answer]\n",
        "#x = df.drop(['data','t_media','data_mes','precipitacao','data_dia','t_minima', v_answer], axis=1)\n",
        "#x = x[x['t_maxima'] > 15.4]\n",
        "#v_answer = df.consumo[df['t_maxima'] > 15.4]\n",
        "x_train, x_test, y_train, y_test = train_test_split(x,y,test_size=0.25,random_state=28)"
      ],
      "execution_count": 0,
      "outputs": []
    },
    {
      "cell_type": "code",
      "metadata": {
        "id": "yjNcQwy6GU_r",
        "colab_type": "code",
        "colab": {}
      },
      "source": [
        "# RELAÇÃO LINEAR MULTIPLA - PESOS DAS MINHAS VARIÁVEIS\n",
        "lr_m = LinearRegression()\n",
        "lr_m.fit(x_train,y_train)\n",
        "for (i_lr,col) in zip(lr_m.coef_.round(2),x.columns):\n",
        "  print('O Coeficiente da variável',col,'\\tfoi ',i_lr)"
      ],
      "execution_count": 0,
      "outputs": []
    },
    {
      "cell_type": "code",
      "metadata": {
        "id": "W7TNyzA-GVEv",
        "colab_type": "code",
        "colab": {}
      },
      "source": [
        "# GRÁFICO COM OS PESOS DA MINHA REGRESSÃO\n",
        "plt.figure(figsize=(25,8))\n",
        "sns.barplot(x = x.columns, y = lr_m.coef_)\n",
        "plt.show()"
      ],
      "execution_count": 0,
      "outputs": []
    },
    {
      "cell_type": "code",
      "metadata": {
        "id": "F7e_WPvBR4PV",
        "colab_type": "code",
        "colab": {}
      },
      "source": [
        "# CALCULANDO O MEU ERRO PARA REGRESSÃO LINEAR MULTIPLA\n",
        "v_erro = mean_squared_error(y_test,lr_m.predict((x_test)))\n",
        "vm_erro = np.sqrt(v_erro).round(2)\n",
        "if vm_erro < vs_erro:\n",
        "  print('Meu erro em uma regressão multipla foi de',vm_erro,', melhor resultado do que em uma regressão linear simples',vs_erro)\n",
        "else:\n",
        "  print('Meu erro em uma regressão simples foi de',vs_erro,', melhor resultado do que em uma regressão linear multipla',vm_erro)"
      ],
      "execution_count": 0,
      "outputs": []
    },
    {
      "cell_type": "code",
      "metadata": {
        "id": "N11EHS6NIZsZ",
        "colab_type": "code",
        "colab": {}
      },
      "source": [
        "# VERIFICAMOS COM O TESTE ANTERIOR QUE NA REGRESSÃO LINEAR MULTIPLA QUE MEU MODELO, COMO ERA DE SE ESPERAR, JÁ ERRA MENOS DO QUE COM APENAS UMA VARIÁVEL."
      ],
      "execution_count": 0,
      "outputs": []
    },
    {
      "cell_type": "code",
      "metadata": {
        "id": "DqWk6hahuaaa",
        "colab_type": "code",
        "colab": {}
      },
      "source": [
        "# CALCULANDO A PRECISÃO DO MEU MODELO\n",
        "prm_treino = lr_m.score(x_train,y_train)\n",
        "prm_teste = lr_m.score(x_test,y_test)\n",
        "\n",
        "print('Meu percentual de acerto no treino foi de',prm_treino.round(3),'\\nMeu percentual de acerto no teste foi de',prm_teste.round(3))\n",
        "#y_pred= lr.predict(x_test)\n",
        "#r2_score(y_test,y_pred)\n",
        "\n",
        "# r2 < 60% é ruim\n",
        "# r2 > 80% é muito bom\n",
        "# r2 = 1 é ruim"
      ],
      "execution_count": 0,
      "outputs": []
    },
    {
      "cell_type": "code",
      "metadata": {
        "id": "j10xPrwz7qvf",
        "colab_type": "code",
        "colab": {}
      },
      "source": [
        "r2_score(y_test,lr_m.predict(x_test))"
      ],
      "execution_count": 0,
      "outputs": []
    },
    {
      "cell_type": "markdown",
      "metadata": {
        "id": "wfy64EEoIsZz",
        "colab_type": "text"
      },
      "source": [
        "# REGRESSÃO POLINOMIAL"
      ]
    },
    {
      "cell_type": "code",
      "metadata": {
        "id": "vOK0-1XuKcMy",
        "colab_type": "code",
        "colab": {}
      },
      "source": [
        "# TESTANDO MEU ERRO DE TREINO/TESTE NUM LOOP - IGUAL QUE NEM O DO PROFESSOR\n",
        "x = df1.drop([v_answer], axis=1)\n",
        "y = df1[v_answer]\n",
        "\n",
        "trn_error = []\n",
        "tst_error = []\n",
        "prm_tst = []\n",
        "prm_trn = []\n",
        "\n",
        "lr_p = LinearRegression()\n",
        "\n",
        "for i in range(1,8):\n",
        "  poly = PolynomialFeatures(degree=i)\n",
        "  x_poly = poly.fit_transform(x)\n",
        "\n",
        "  xp_train, xp_test, yp_train, yp_test = train_test_split(x_poly, y, test_size=0.25,random_state=28)\n",
        "\n",
        "  lr_p.fit(xp_train,yp_train)\n",
        "\n",
        "  ytst_pred = lr_p.predict(xp_test)\n",
        "  ytrn_pred = lr_p.predict(xp_train)\n",
        "\n",
        "  tst_error.append(mean_squared_error(yp_test, ytst_pred))\n",
        "  trn_error.append(mean_squared_error(yp_train, ytrn_pred))\n",
        "  prm_tst.append(lr_p.score(xp_test, yp_test))\n",
        "  prm_trn.append(lr_p.score(xp_train, yp_train))\n"
      ],
      "execution_count": 0,
      "outputs": []
    },
    {
      "cell_type": "code",
      "metadata": {
        "id": "iegHCC3-KcPq",
        "colab_type": "code",
        "colab": {}
      },
      "source": [
        "# GRÁFICO DOS ERROS GERADOS PELO LOOP\n",
        "plt.figure(figsize=(10,7))\n",
        "\n",
        "trn_error_v = np.log10(trn_error)\n",
        "tst_error_v = np.log10(tst_error)\n",
        "\n",
        "sns.lineplot(x = list(range(1,8)), y = trn_error_v, label='trn_error',color='b',marker='D')\n",
        "sns.lineplot(x = list(range(1,8)), y = tst_error_v, label='tst_error',color='r',marker='X')\n",
        "\n",
        "plt.title('Erro de Treino e Teste', size = 15)\n",
        "\n",
        "plt.legend()\n",
        "plt.show()"
      ],
      "execution_count": 0,
      "outputs": []
    },
    {
      "cell_type": "code",
      "metadata": {
        "id": "Cz37GUfNf4bV",
        "colab_type": "code",
        "colab": {}
      },
      "source": [
        "# A PRECISÃO DOS MEUS MODELOS POLINOMIAIS FOI\n",
        "i = 0\n",
        "for (a,b) in zip(prm_tst,prm_trn):\n",
        "  i += 1\n",
        "  print('Com polinomio grau',i,'\\n\\tPrecisão no teste ',a.round(3),'\\n\\tPrecisao no treino',b.round(3))"
      ],
      "execution_count": 0,
      "outputs": []
    },
    {
      "cell_type": "code",
      "metadata": {
        "id": "3m0nMluKhJZC",
        "colab_type": "code",
        "colab": {}
      },
      "source": [
        "'''\n",
        "Nesse projeto foi \n",
        "'''"
      ],
      "execution_count": 0,
      "outputs": []
    }
  ]
}