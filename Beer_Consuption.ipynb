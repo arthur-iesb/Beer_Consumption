{
  "nbformat": 4,
  "nbformat_minor": 0,
  "metadata": {
    "colab": {
      "name": "Beer_Consumption.ipynb",
      "provenance": []
    },
    "kernelspec": {
      "name": "python3",
      "display_name": "Python 3"
    }
  },
  "cells": [
    {
      "cell_type": "markdown",
      "metadata": {
        "id": "LgrKzPCSp676",
        "colab_type": "text"
      },
      "source": [
        "## INFORMAÇÕES DO ALUNO"
      ]
    },
    {
      "cell_type": "code",
      "metadata": {
        "id": "EbWoRD1rp2S_",
        "colab_type": "code",
        "colab": {}
      },
      "source": [
        "'''\n",
        "SOFTWARES PARA USO EM CIÊNCIA DE DADOS II\n",
        "PROJETO 02/02 - Beer Consumption\n",
        "PROFESSOR: NASSER BOAN\n",
        "ALUNO: ARTHUR FARIAS\n",
        "MATRÍCULA: 1931133115\n",
        "'''"
      ],
      "execution_count": 0,
      "outputs": []
    },
    {
      "cell_type": "markdown",
      "metadata": {
        "id": "r0FlQL_sqKsr",
        "colab_type": "text"
      },
      "source": [
        "# IMPORTANDO DATASET E BIBLIOTECAS"
      ]
    },
    {
      "cell_type": "markdown",
      "metadata": {
        "id": "RVwFDKmmqL4N",
        "colab_type": "text"
      },
      "source": [
        "## Bibliotecas"
      ]
    },
    {
      "cell_type": "code",
      "metadata": {
        "id": "6aKJ8NeOqGy7",
        "colab_type": "code",
        "colab": {}
      },
      "source": [
        "## IMPORTANDO AS BIBLIOTECAS QUE SERÃO UTILIZADAS NO PROJETO ##\n",
        "import pandas as pd\n",
        "import numpy as np\n",
        "import datetime\n",
        "import matplotlib.pyplot as plt\n",
        "import seaborn as sns\n",
        "from sklearn.linear_model import LinearRegression\n",
        "from sklearn.metrics import mean_squared_error,r2_score\n",
        "\n",
        "# Comment this if the data visualisations doesn't work on your side\n",
        "# %matplotlib inline\n",
        "\n",
        "# We are using whitegrid style for our seaborn plots. This is like the most basic one\n",
        "sns.set_style(style = 'whitegrid')"
      ],
      "execution_count": 0,
      "outputs": []
    },
    {
      "cell_type": "code",
      "metadata": {
        "id": "cQFecO-tt4R2",
        "colab_type": "code",
        "colab": {
          "base_uri": "https://localhost:8080/",
          "height": 122
        },
        "outputId": "205e2d2b-a1f5-4965-9468-022dbae8659d"
      },
      "source": [
        "# SE O GOOGLE DRIVE NÃO QUISER MONTAR\n",
        "from google.colab import drive\n",
        "drive.mount('/content/drive')"
      ],
      "execution_count": 3,
      "outputs": [
        {
          "output_type": "stream",
          "text": [
            "Go to this URL in a browser: https://accounts.google.com/o/oauth2/auth?client_id=947318989803-6bn6qk8qdgf4n4g3pfee6491hc0brc4i.apps.googleusercontent.com&redirect_uri=urn%3aietf%3awg%3aoauth%3a2.0%3aoob&response_type=code&scope=email%20https%3a%2f%2fwww.googleapis.com%2fauth%2fdocs.test%20https%3a%2f%2fwww.googleapis.com%2fauth%2fdrive%20https%3a%2f%2fwww.googleapis.com%2fauth%2fdrive.photos.readonly%20https%3a%2f%2fwww.googleapis.com%2fauth%2fpeopleapi.readonly\n",
            "\n",
            "Enter your authorization code:\n",
            "··········\n",
            "Mounted at /content/drive\n"
          ],
          "name": "stdout"
        }
      ]
    },
    {
      "cell_type": "markdown",
      "metadata": {
        "id": "d3VTeTM0qvsl",
        "colab_type": "text"
      },
      "source": [
        "## Dataset"
      ]
    },
    {
      "cell_type": "code",
      "metadata": {
        "id": "eCwMU1ozqX3L",
        "colab_type": "code",
        "outputId": "a7dd58ee-9a64-44c3-b93e-74f6e16124ef",
        "colab": {
          "base_uri": "https://localhost:8080/",
          "height": 142
        }
      },
      "source": [
        "## IMPORTANDO A BASE E REALIZANDO OS TRATAMENTOS INICIAIS\n",
        "df = pd.read_csv('/content/drive/My Drive/git/Beer_Consumption/data/Consumo_cerveja.csv',sep=',',encoding='iso-8859-1', dtype=str)\n",
        "df.columns = [x.lower() for x in df.columns]\n",
        "df_columns = df.columns\n",
        "df.head(3)"
      ],
      "execution_count": 4,
      "outputs": [
        {
          "output_type": "execute_result",
          "data": {
            "text/html": [
              "<div>\n",
              "<style scoped>\n",
              "    .dataframe tbody tr th:only-of-type {\n",
              "        vertical-align: middle;\n",
              "    }\n",
              "\n",
              "    .dataframe tbody tr th {\n",
              "        vertical-align: top;\n",
              "    }\n",
              "\n",
              "    .dataframe thead th {\n",
              "        text-align: right;\n",
              "    }\n",
              "</style>\n",
              "<table border=\"1\" class=\"dataframe\">\n",
              "  <thead>\n",
              "    <tr style=\"text-align: right;\">\n",
              "      <th></th>\n",
              "      <th>data</th>\n",
              "      <th>temperatura media (c)</th>\n",
              "      <th>temperatura minima (c)</th>\n",
              "      <th>temperatura maxima (c)</th>\n",
              "      <th>precipitacao (mm)</th>\n",
              "      <th>final de semana</th>\n",
              "      <th>consumo de cerveja (litros)</th>\n",
              "    </tr>\n",
              "  </thead>\n",
              "  <tbody>\n",
              "    <tr>\n",
              "      <th>0</th>\n",
              "      <td>2015-01-01</td>\n",
              "      <td>27,3</td>\n",
              "      <td>23,9</td>\n",
              "      <td>32,5</td>\n",
              "      <td>0</td>\n",
              "      <td>0</td>\n",
              "      <td>25.461</td>\n",
              "    </tr>\n",
              "    <tr>\n",
              "      <th>1</th>\n",
              "      <td>2015-01-02</td>\n",
              "      <td>27,02</td>\n",
              "      <td>24,5</td>\n",
              "      <td>33,5</td>\n",
              "      <td>0</td>\n",
              "      <td>0</td>\n",
              "      <td>28.972</td>\n",
              "    </tr>\n",
              "    <tr>\n",
              "      <th>2</th>\n",
              "      <td>2015-01-03</td>\n",
              "      <td>24,82</td>\n",
              "      <td>22,4</td>\n",
              "      <td>29,9</td>\n",
              "      <td>0</td>\n",
              "      <td>1</td>\n",
              "      <td>30.814</td>\n",
              "    </tr>\n",
              "  </tbody>\n",
              "</table>\n",
              "</div>"
            ],
            "text/plain": [
              "         data temperatura media (c)  ... final de semana consumo de cerveja (litros)\n",
              "0  2015-01-01                  27,3  ...               0                      25.461\n",
              "1  2015-01-02                 27,02  ...               0                      28.972\n",
              "2  2015-01-03                 24,82  ...               1                      30.814\n",
              "\n",
              "[3 rows x 7 columns]"
            ]
          },
          "metadata": {
            "tags": []
          },
          "execution_count": 4
        }
      ]
    },
    {
      "cell_type": "code",
      "metadata": {
        "id": "y45vRf_24hc7",
        "colab_type": "code",
        "outputId": "d4b89f56-af80-4304-98ea-f2843b94ad14",
        "colab": {
          "base_uri": "https://localhost:8080/",
          "height": 142
        }
      },
      "source": [
        "# MELHORANDO O NOME DAS VARIÁVEIS\n",
        "df.columns = ['data', 't_media', 't_minima', 't_maxima', 'precipitacao', 'fim_semana', 'consumo']\n",
        "df_columns = df.columns\n",
        "df.head(3)"
      ],
      "execution_count": 5,
      "outputs": [
        {
          "output_type": "execute_result",
          "data": {
            "text/html": [
              "<div>\n",
              "<style scoped>\n",
              "    .dataframe tbody tr th:only-of-type {\n",
              "        vertical-align: middle;\n",
              "    }\n",
              "\n",
              "    .dataframe tbody tr th {\n",
              "        vertical-align: top;\n",
              "    }\n",
              "\n",
              "    .dataframe thead th {\n",
              "        text-align: right;\n",
              "    }\n",
              "</style>\n",
              "<table border=\"1\" class=\"dataframe\">\n",
              "  <thead>\n",
              "    <tr style=\"text-align: right;\">\n",
              "      <th></th>\n",
              "      <th>data</th>\n",
              "      <th>t_media</th>\n",
              "      <th>t_minima</th>\n",
              "      <th>t_maxima</th>\n",
              "      <th>precipitacao</th>\n",
              "      <th>fim_semana</th>\n",
              "      <th>consumo</th>\n",
              "    </tr>\n",
              "  </thead>\n",
              "  <tbody>\n",
              "    <tr>\n",
              "      <th>0</th>\n",
              "      <td>2015-01-01</td>\n",
              "      <td>27,3</td>\n",
              "      <td>23,9</td>\n",
              "      <td>32,5</td>\n",
              "      <td>0</td>\n",
              "      <td>0</td>\n",
              "      <td>25.461</td>\n",
              "    </tr>\n",
              "    <tr>\n",
              "      <th>1</th>\n",
              "      <td>2015-01-02</td>\n",
              "      <td>27,02</td>\n",
              "      <td>24,5</td>\n",
              "      <td>33,5</td>\n",
              "      <td>0</td>\n",
              "      <td>0</td>\n",
              "      <td>28.972</td>\n",
              "    </tr>\n",
              "    <tr>\n",
              "      <th>2</th>\n",
              "      <td>2015-01-03</td>\n",
              "      <td>24,82</td>\n",
              "      <td>22,4</td>\n",
              "      <td>29,9</td>\n",
              "      <td>0</td>\n",
              "      <td>1</td>\n",
              "      <td>30.814</td>\n",
              "    </tr>\n",
              "  </tbody>\n",
              "</table>\n",
              "</div>"
            ],
            "text/plain": [
              "         data t_media t_minima t_maxima precipitacao fim_semana consumo\n",
              "0  2015-01-01    27,3     23,9     32,5            0          0  25.461\n",
              "1  2015-01-02   27,02     24,5     33,5            0          0  28.972\n",
              "2  2015-01-03   24,82     22,4     29,9            0          1  30.814"
            ]
          },
          "metadata": {
            "tags": []
          },
          "execution_count": 5
        }
      ]
    },
    {
      "cell_type": "code",
      "metadata": {
        "id": "Yy0AG2H_XeaU",
        "colab_type": "code",
        "colab": {}
      },
      "source": [
        "# DICIONÁRIO DE DADOS\n",
        "\n",
        "'''\n",
        "data            Data\n",
        "t_media         Temperatura Media (C)\n",
        "t_minima        Temperatura Minima (C)\n",
        "t_maxima        Temperatura Maxima (C)\n",
        "precipitacao    Precipitacao (mm)\n",
        "fim_semana      Final de Semana\n",
        "consumo         Consumo de cerveja (litros)\n",
        "'''"
      ],
      "execution_count": 0,
      "outputs": []
    },
    {
      "cell_type": "markdown",
      "metadata": {
        "id": "pX2U4nBMq--3",
        "colab_type": "text"
      },
      "source": [
        "# ANÁLISE EXPLORATÓRIA"
      ]
    },
    {
      "cell_type": "code",
      "metadata": {
        "id": "ULikslzzrE8w",
        "colab_type": "code",
        "outputId": "f4429eb8-d63e-41c2-9a87-6dda685ab41c",
        "colab": {
          "base_uri": "https://localhost:8080/",
          "height": 34
        }
      },
      "source": [
        "# VERIFICANDO O SHAPE DO DATASET E CRIANDO VARIÁVEIS\n",
        "n_rows = df.shape[0]\n",
        "n_cols = df.shape[1]\n",
        "v_cols = df.columns\n",
        "v_answer = 'consumo'\n",
        "print('O Dataset possui' , n_rows, 'linhas e' , n_cols , 'colunas.')"
      ],
      "execution_count": 6,
      "outputs": [
        {
          "output_type": "stream",
          "text": [
            "O Dataset possui 941 linhas e 7 colunas.\n"
          ],
          "name": "stdout"
        }
      ]
    },
    {
      "cell_type": "code",
      "metadata": {
        "id": "wZyoAabyq0aJ",
        "colab_type": "code",
        "outputId": "2ac4bef2-8085-4f49-9e0e-2ee4ecb49b17",
        "colab": {
          "base_uri": "https://localhost:8080/",
          "height": 357
        }
      },
      "source": [
        "# IDENTIFICANDO VALORES NULOS\n",
        "if df.isnull().values.any() == True:\n",
        "  print(df.isna().sum(), '\\n\\n\\nVALORES PERCENTUAIS DE NULO\\n')\n",
        "  print((df.isnull().sum()/n_rows).round(2)*100)\n",
        "else:\n",
        "  print('O Dataset não possui valores nulos.')"
      ],
      "execution_count": 7,
      "outputs": [
        {
          "output_type": "stream",
          "text": [
            "data            576\n",
            "t_media         576\n",
            "t_minima        576\n",
            "t_maxima        576\n",
            "precipitacao    576\n",
            "fim_semana      576\n",
            "consumo         576\n",
            "dtype: int64 \n",
            "\n",
            "\n",
            "VALORES PERCENTUAIS DE NULO\n",
            "\n",
            "data            61.0\n",
            "t_media         61.0\n",
            "t_minima        61.0\n",
            "t_maxima        61.0\n",
            "precipitacao    61.0\n",
            "fim_semana      61.0\n",
            "consumo         61.0\n",
            "dtype: float64\n"
          ],
          "name": "stdout"
        }
      ]
    },
    {
      "cell_type": "code",
      "metadata": {
        "id": "LURij32iusDr",
        "colab_type": "code",
        "colab": {}
      },
      "source": [
        "# REMOVENDO AS LINHAS ONDE TODAS AS VARIÁVEIS TIVEREM VALORES NULO\n",
        "df = df.dropna(thresh=7)"
      ],
      "execution_count": 0,
      "outputs": []
    },
    {
      "cell_type": "code",
      "metadata": {
        "id": "YNG27OmpvaLM",
        "colab_type": "code",
        "colab": {
          "base_uri": "https://localhost:8080/",
          "height": 34
        },
        "outputId": "cbe18377-0ff7-4be8-877c-6ecb8eb01c13"
      },
      "source": [
        "# IDENTIFICANDO VALORES NULOS\n",
        "if df.isnull().values.any() == True:\n",
        "  print(df.isna().sum(), '\\n\\n\\nVALORES PERCENTUAIS DE NULO\\n')\n",
        "  print((df.isnull().sum()/n_rows).round(2)*100)\n",
        "else:\n",
        "  print('O Dataset não possui valores nulos.')"
      ],
      "execution_count": 9,
      "outputs": [
        {
          "output_type": "stream",
          "text": [
            "O Dataset não possui valores nulos.\n"
          ],
          "name": "stdout"
        }
      ]
    },
    {
      "cell_type": "code",
      "metadata": {
        "id": "a1zqlsc41IxC",
        "colab_type": "code",
        "colab": {
          "base_uri": "https://localhost:8080/",
          "height": 255
        },
        "outputId": "2f7a740a-dd47-4070-a8c3-c297b7c57320"
      },
      "source": [
        "# VERIFICANDO INFORMAÇÕES DO DATASET\n",
        "df.info(verbose=True)"
      ],
      "execution_count": 10,
      "outputs": [
        {
          "output_type": "stream",
          "text": [
            "<class 'pandas.core.frame.DataFrame'>\n",
            "Int64Index: 365 entries, 0 to 364\n",
            "Data columns (total 7 columns):\n",
            " #   Column        Non-Null Count  Dtype \n",
            "---  ------        --------------  ----- \n",
            " 0   data          365 non-null    object\n",
            " 1   t_media       365 non-null    object\n",
            " 2   t_minima      365 non-null    object\n",
            " 3   t_maxima      365 non-null    object\n",
            " 4   precipitacao  365 non-null    object\n",
            " 5   fim_semana    365 non-null    object\n",
            " 6   consumo       365 non-null    object\n",
            "dtypes: object(7)\n",
            "memory usage: 22.8+ KB\n"
          ],
          "name": "stdout"
        }
      ]
    },
    {
      "cell_type": "code",
      "metadata": {
        "id": "LY9k5dA0znEZ",
        "colab_type": "code",
        "colab": {}
      },
      "source": [
        "# AJUSTANDO AS INFORMAÇÕES PARA O PADRÃO IMPERIAL\n",
        "# MODIFICANDO OS TIPOS DE VARIÁVEIS\n",
        "df['consumo']       = [x.replace('.', '') for x in df['consumo']]\n",
        "df['t_media']       = [x.replace(',', '.') for x in df['t_media']]\n",
        "df['t_minima']      = [x.replace(',', '.') for x in df['t_minima']]\n",
        "df['t_maxima']      = [x.replace(',', '.') for x in df['t_maxima']]\n",
        "df['precipitacao']  = [x.replace(',', '.') for x in df['precipitacao']]\n",
        "\n",
        "df['data']          = pd.to_datetime(df.data, format='%Y-%m-%d')\n",
        "df['t_media']       = df['t_media'].astype('float64')\n",
        "df['t_minima']      = df['t_minima'].astype('float64')\n",
        "df['t_maxima']      = df['t_maxima'].astype('float64')\n",
        "df['precipitacao']  = df['precipitacao'].astype('float64')\n",
        "df['fim_semana']    = df['fim_semana'].astype('category')\n",
        "df['consumo']       = df['consumo'].astype('int64')"
      ],
      "execution_count": 0,
      "outputs": []
    },
    {
      "cell_type": "code",
      "metadata": {
        "id": "b1QVCgRf508f",
        "colab_type": "code",
        "colab": {
          "base_uri": "https://localhost:8080/",
          "height": 255
        },
        "outputId": "9aa72dd4-cd29-4974-834e-0faa89810756"
      },
      "source": [
        "# VERIFICANDO INFORMAÇÕES DO DATASET\n",
        "df.info(verbose=True)"
      ],
      "execution_count": 12,
      "outputs": [
        {
          "output_type": "stream",
          "text": [
            "<class 'pandas.core.frame.DataFrame'>\n",
            "Int64Index: 365 entries, 0 to 364\n",
            "Data columns (total 7 columns):\n",
            " #   Column        Non-Null Count  Dtype         \n",
            "---  ------        --------------  -----         \n",
            " 0   data          365 non-null    datetime64[ns]\n",
            " 1   t_media       365 non-null    float64       \n",
            " 2   t_minima      365 non-null    float64       \n",
            " 3   t_maxima      365 non-null    float64       \n",
            " 4   precipitacao  365 non-null    float64       \n",
            " 5   fim_semana    365 non-null    category      \n",
            " 6   consumo       365 non-null    int64         \n",
            "dtypes: category(1), datetime64[ns](1), float64(4), int64(1)\n",
            "memory usage: 20.4 KB\n"
          ],
          "name": "stdout"
        }
      ]
    },
    {
      "cell_type": "code",
      "metadata": {
        "id": "fA2aD9Hdrkoz",
        "colab_type": "code",
        "colab": {
          "base_uri": "https://localhost:8080/",
          "height": 204
        },
        "outputId": "7a37f4d0-d0ed-4e3b-c06b-7c6522dd1ef4"
      },
      "source": [
        "# NÚMERO DE VALORES DISTINTOS NAS VARIÁVEIS\n",
        "print(df.nunique(),'\\n\\nRELAÇÃO DE VARIÁVEIS COM MENOS ATÉ 20 VALORES DISTINTOS')\n",
        "\n",
        "for i in v_cols:\n",
        "  if df[i].nunique() <= 20:\n",
        "    print(i,sorted(df[i].unique()))\n",
        "#    print(df[i].value_counts(dropna=False))"
      ],
      "execution_count": 13,
      "outputs": [
        {
          "output_type": "stream",
          "text": [
            "data            365\n",
            "t_media         277\n",
            "t_minima        110\n",
            "t_maxima        151\n",
            "precipitacao     93\n",
            "fim_semana        2\n",
            "consumo         359\n",
            "dtype: int64 \n",
            "\n",
            "RELAÇÃO DE VARIÁVEIS COM MENOS ATÉ 20 VALORES DISTINTOS\n",
            "fim_semana ['0', '1']\n"
          ],
          "name": "stdout"
        }
      ]
    },
    {
      "cell_type": "code",
      "metadata": {
        "id": "B9QWor-860_h",
        "colab_type": "code",
        "colab": {
          "base_uri": "https://localhost:8080/",
          "height": 452
        },
        "outputId": "0809ae55-9348-4358-98d2-bfeee46d80dc"
      },
      "source": [
        "# ESTATISTICA DESCRITIVA DOS DADOS\n",
        "df.describe(include='all').round(2)"
      ],
      "execution_count": 14,
      "outputs": [
        {
          "output_type": "execute_result",
          "data": {
            "text/html": [
              "<div>\n",
              "<style scoped>\n",
              "    .dataframe tbody tr th:only-of-type {\n",
              "        vertical-align: middle;\n",
              "    }\n",
              "\n",
              "    .dataframe tbody tr th {\n",
              "        vertical-align: top;\n",
              "    }\n",
              "\n",
              "    .dataframe thead th {\n",
              "        text-align: right;\n",
              "    }\n",
              "</style>\n",
              "<table border=\"1\" class=\"dataframe\">\n",
              "  <thead>\n",
              "    <tr style=\"text-align: right;\">\n",
              "      <th></th>\n",
              "      <th>data</th>\n",
              "      <th>t_media</th>\n",
              "      <th>t_minima</th>\n",
              "      <th>t_maxima</th>\n",
              "      <th>precipitacao</th>\n",
              "      <th>fim_semana</th>\n",
              "      <th>consumo</th>\n",
              "    </tr>\n",
              "  </thead>\n",
              "  <tbody>\n",
              "    <tr>\n",
              "      <th>count</th>\n",
              "      <td>365</td>\n",
              "      <td>365.00</td>\n",
              "      <td>365.00</td>\n",
              "      <td>365.00</td>\n",
              "      <td>365.00</td>\n",
              "      <td>365</td>\n",
              "      <td>365.00</td>\n",
              "    </tr>\n",
              "    <tr>\n",
              "      <th>unique</th>\n",
              "      <td>365</td>\n",
              "      <td>NaN</td>\n",
              "      <td>NaN</td>\n",
              "      <td>NaN</td>\n",
              "      <td>NaN</td>\n",
              "      <td>2</td>\n",
              "      <td>NaN</td>\n",
              "    </tr>\n",
              "    <tr>\n",
              "      <th>top</th>\n",
              "      <td>2015-07-19 00:00:00</td>\n",
              "      <td>NaN</td>\n",
              "      <td>NaN</td>\n",
              "      <td>NaN</td>\n",
              "      <td>NaN</td>\n",
              "      <td>0</td>\n",
              "      <td>NaN</td>\n",
              "    </tr>\n",
              "    <tr>\n",
              "      <th>freq</th>\n",
              "      <td>1</td>\n",
              "      <td>NaN</td>\n",
              "      <td>NaN</td>\n",
              "      <td>NaN</td>\n",
              "      <td>NaN</td>\n",
              "      <td>261</td>\n",
              "      <td>NaN</td>\n",
              "    </tr>\n",
              "    <tr>\n",
              "      <th>first</th>\n",
              "      <td>2015-01-01 00:00:00</td>\n",
              "      <td>NaN</td>\n",
              "      <td>NaN</td>\n",
              "      <td>NaN</td>\n",
              "      <td>NaN</td>\n",
              "      <td>NaN</td>\n",
              "      <td>NaN</td>\n",
              "    </tr>\n",
              "    <tr>\n",
              "      <th>last</th>\n",
              "      <td>2015-12-31 00:00:00</td>\n",
              "      <td>NaN</td>\n",
              "      <td>NaN</td>\n",
              "      <td>NaN</td>\n",
              "      <td>NaN</td>\n",
              "      <td>NaN</td>\n",
              "      <td>NaN</td>\n",
              "    </tr>\n",
              "    <tr>\n",
              "      <th>mean</th>\n",
              "      <td>NaN</td>\n",
              "      <td>21.23</td>\n",
              "      <td>17.46</td>\n",
              "      <td>26.61</td>\n",
              "      <td>5.20</td>\n",
              "      <td>NaN</td>\n",
              "      <td>25401.37</td>\n",
              "    </tr>\n",
              "    <tr>\n",
              "      <th>std</th>\n",
              "      <td>NaN</td>\n",
              "      <td>3.18</td>\n",
              "      <td>2.83</td>\n",
              "      <td>4.32</td>\n",
              "      <td>12.42</td>\n",
              "      <td>NaN</td>\n",
              "      <td>4399.14</td>\n",
              "    </tr>\n",
              "    <tr>\n",
              "      <th>min</th>\n",
              "      <td>NaN</td>\n",
              "      <td>12.90</td>\n",
              "      <td>10.60</td>\n",
              "      <td>14.50</td>\n",
              "      <td>0.00</td>\n",
              "      <td>NaN</td>\n",
              "      <td>14343.00</td>\n",
              "    </tr>\n",
              "    <tr>\n",
              "      <th>25%</th>\n",
              "      <td>NaN</td>\n",
              "      <td>19.02</td>\n",
              "      <td>15.30</td>\n",
              "      <td>23.80</td>\n",
              "      <td>0.00</td>\n",
              "      <td>NaN</td>\n",
              "      <td>22008.00</td>\n",
              "    </tr>\n",
              "    <tr>\n",
              "      <th>50%</th>\n",
              "      <td>NaN</td>\n",
              "      <td>21.38</td>\n",
              "      <td>17.90</td>\n",
              "      <td>26.90</td>\n",
              "      <td>0.00</td>\n",
              "      <td>NaN</td>\n",
              "      <td>24867.00</td>\n",
              "    </tr>\n",
              "    <tr>\n",
              "      <th>75%</th>\n",
              "      <td>NaN</td>\n",
              "      <td>23.28</td>\n",
              "      <td>19.60</td>\n",
              "      <td>29.40</td>\n",
              "      <td>3.20</td>\n",
              "      <td>NaN</td>\n",
              "      <td>28631.00</td>\n",
              "    </tr>\n",
              "    <tr>\n",
              "      <th>max</th>\n",
              "      <td>NaN</td>\n",
              "      <td>28.86</td>\n",
              "      <td>24.50</td>\n",
              "      <td>36.50</td>\n",
              "      <td>94.80</td>\n",
              "      <td>NaN</td>\n",
              "      <td>37937.00</td>\n",
              "    </tr>\n",
              "  </tbody>\n",
              "</table>\n",
              "</div>"
            ],
            "text/plain": [
              "                       data  t_media  ...  fim_semana   consumo\n",
              "count                   365   365.00  ...         365    365.00\n",
              "unique                  365      NaN  ...           2       NaN\n",
              "top     2015-07-19 00:00:00      NaN  ...           0       NaN\n",
              "freq                      1      NaN  ...         261       NaN\n",
              "first   2015-01-01 00:00:00      NaN  ...         NaN       NaN\n",
              "last    2015-12-31 00:00:00      NaN  ...         NaN       NaN\n",
              "mean                    NaN    21.23  ...         NaN  25401.37\n",
              "std                     NaN     3.18  ...         NaN   4399.14\n",
              "min                     NaN    12.90  ...         NaN  14343.00\n",
              "25%                     NaN    19.02  ...         NaN  22008.00\n",
              "50%                     NaN    21.38  ...         NaN  24867.00\n",
              "75%                     NaN    23.28  ...         NaN  28631.00\n",
              "max                     NaN    28.86  ...         NaN  37937.00\n",
              "\n",
              "[13 rows x 7 columns]"
            ]
          },
          "metadata": {
            "tags": []
          },
          "execution_count": 14
        }
      ]
    },
    {
      "cell_type": "code",
      "metadata": {
        "id": "_IHqymG98Bv2",
        "colab_type": "code",
        "colab": {
          "base_uri": "https://localhost:8080/",
          "height": 266
        },
        "outputId": "78cdffab-4ffa-494f-ba26-74f2c8b983b1"
      },
      "source": [
        "# ALTERANDO A VISÃO PARA MELHORAR A VISUALIZAÇÃO\n",
        "df.describe(include='all').round(2).T"
      ],
      "execution_count": 24,
      "outputs": [
        {
          "output_type": "execute_result",
          "data": {
            "text/html": [
              "<div>\n",
              "<style scoped>\n",
              "    .dataframe tbody tr th:only-of-type {\n",
              "        vertical-align: middle;\n",
              "    }\n",
              "\n",
              "    .dataframe tbody tr th {\n",
              "        vertical-align: top;\n",
              "    }\n",
              "\n",
              "    .dataframe thead th {\n",
              "        text-align: right;\n",
              "    }\n",
              "</style>\n",
              "<table border=\"1\" class=\"dataframe\">\n",
              "  <thead>\n",
              "    <tr style=\"text-align: right;\">\n",
              "      <th></th>\n",
              "      <th>count</th>\n",
              "      <th>unique</th>\n",
              "      <th>top</th>\n",
              "      <th>freq</th>\n",
              "      <th>first</th>\n",
              "      <th>last</th>\n",
              "      <th>mean</th>\n",
              "      <th>std</th>\n",
              "      <th>min</th>\n",
              "      <th>25%</th>\n",
              "      <th>50%</th>\n",
              "      <th>75%</th>\n",
              "      <th>max</th>\n",
              "    </tr>\n",
              "  </thead>\n",
              "  <tbody>\n",
              "    <tr>\n",
              "      <th>data</th>\n",
              "      <td>365</td>\n",
              "      <td>365</td>\n",
              "      <td>2015-07-19 00:00:00</td>\n",
              "      <td>1</td>\n",
              "      <td>2015-01-01</td>\n",
              "      <td>2015-12-31</td>\n",
              "      <td>NaN</td>\n",
              "      <td>NaN</td>\n",
              "      <td>NaN</td>\n",
              "      <td>NaN</td>\n",
              "      <td>NaN</td>\n",
              "      <td>NaN</td>\n",
              "      <td>NaN</td>\n",
              "    </tr>\n",
              "    <tr>\n",
              "      <th>t_media</th>\n",
              "      <td>365</td>\n",
              "      <td>NaN</td>\n",
              "      <td>NaN</td>\n",
              "      <td>NaN</td>\n",
              "      <td>NaT</td>\n",
              "      <td>NaT</td>\n",
              "      <td>21.23</td>\n",
              "      <td>3.18</td>\n",
              "      <td>12.9</td>\n",
              "      <td>19.02</td>\n",
              "      <td>21.38</td>\n",
              "      <td>23.28</td>\n",
              "      <td>28.86</td>\n",
              "    </tr>\n",
              "    <tr>\n",
              "      <th>t_minima</th>\n",
              "      <td>365</td>\n",
              "      <td>NaN</td>\n",
              "      <td>NaN</td>\n",
              "      <td>NaN</td>\n",
              "      <td>NaT</td>\n",
              "      <td>NaT</td>\n",
              "      <td>17.46</td>\n",
              "      <td>2.83</td>\n",
              "      <td>10.6</td>\n",
              "      <td>15.3</td>\n",
              "      <td>17.9</td>\n",
              "      <td>19.6</td>\n",
              "      <td>24.5</td>\n",
              "    </tr>\n",
              "    <tr>\n",
              "      <th>t_maxima</th>\n",
              "      <td>365</td>\n",
              "      <td>NaN</td>\n",
              "      <td>NaN</td>\n",
              "      <td>NaN</td>\n",
              "      <td>NaT</td>\n",
              "      <td>NaT</td>\n",
              "      <td>26.61</td>\n",
              "      <td>4.32</td>\n",
              "      <td>14.5</td>\n",
              "      <td>23.8</td>\n",
              "      <td>26.9</td>\n",
              "      <td>29.4</td>\n",
              "      <td>36.5</td>\n",
              "    </tr>\n",
              "    <tr>\n",
              "      <th>precipitacao</th>\n",
              "      <td>365</td>\n",
              "      <td>NaN</td>\n",
              "      <td>NaN</td>\n",
              "      <td>NaN</td>\n",
              "      <td>NaT</td>\n",
              "      <td>NaT</td>\n",
              "      <td>5.2</td>\n",
              "      <td>12.42</td>\n",
              "      <td>0</td>\n",
              "      <td>0</td>\n",
              "      <td>0</td>\n",
              "      <td>3.2</td>\n",
              "      <td>94.8</td>\n",
              "    </tr>\n",
              "    <tr>\n",
              "      <th>fim_semana</th>\n",
              "      <td>365</td>\n",
              "      <td>2</td>\n",
              "      <td>0</td>\n",
              "      <td>261</td>\n",
              "      <td>NaT</td>\n",
              "      <td>NaT</td>\n",
              "      <td>NaN</td>\n",
              "      <td>NaN</td>\n",
              "      <td>NaN</td>\n",
              "      <td>NaN</td>\n",
              "      <td>NaN</td>\n",
              "      <td>NaN</td>\n",
              "      <td>NaN</td>\n",
              "    </tr>\n",
              "    <tr>\n",
              "      <th>consumo</th>\n",
              "      <td>365</td>\n",
              "      <td>NaN</td>\n",
              "      <td>NaN</td>\n",
              "      <td>NaN</td>\n",
              "      <td>NaT</td>\n",
              "      <td>NaT</td>\n",
              "      <td>25401.4</td>\n",
              "      <td>4399.14</td>\n",
              "      <td>14343</td>\n",
              "      <td>22008</td>\n",
              "      <td>24867</td>\n",
              "      <td>28631</td>\n",
              "      <td>37937</td>\n",
              "    </tr>\n",
              "  </tbody>\n",
              "</table>\n",
              "</div>"
            ],
            "text/plain": [
              "             count unique                  top freq  ...    25%    50%    75%    max\n",
              "data           365    365  2015-07-19 00:00:00    1  ...    NaN    NaN    NaN    NaN\n",
              "t_media        365    NaN                  NaN  NaN  ...  19.02  21.38  23.28  28.86\n",
              "t_minima       365    NaN                  NaN  NaN  ...   15.3   17.9   19.6   24.5\n",
              "t_maxima       365    NaN                  NaN  NaN  ...   23.8   26.9   29.4   36.5\n",
              "precipitacao   365    NaN                  NaN  NaN  ...      0      0    3.2   94.8\n",
              "fim_semana     365      2                    0  261  ...    NaN    NaN    NaN    NaN\n",
              "consumo        365    NaN                  NaN  NaN  ...  22008  24867  28631  37937\n",
              "\n",
              "[7 rows x 13 columns]"
            ]
          },
          "metadata": {
            "tags": []
          },
          "execution_count": 24
        }
      ]
    },
    {
      "cell_type": "code",
      "metadata": {
        "id": "1AjVUBzj8Z-W",
        "colab_type": "code",
        "colab": {
          "base_uri": "https://localhost:8080/",
          "height": 879
        },
        "outputId": "979f9b3f-41a1-495b-9842-b78a38ba7468"
      },
      "source": [
        "# GRÁFICO COM A DISTRIBUIÇÃO DOS VALORES\n",
        "gr_dist = df.hist(figsize = (20,15))"
      ],
      "execution_count": 18,
      "outputs": [
        {
          "output_type": "display_data",
          "data": {
            "image/png": "[encoded data removed]",
            "text/plain": [
              "<Figure size 1440x1080 with 6 Axes>"
            ]
          },
          "metadata": {
            "tags": []
          }
        }
      ]
    },
    {
      "cell_type": "code",
      "metadata": {
        "id": "j9p4frMN92MB",
        "colab_type": "code",
        "colab": {
          "base_uri": "https://localhost:8080/",
          "height": 607
        },
        "outputId": "f46c3413-8f88-4037-bcb3-c67c38f9a7cf"
      },
      "source": [
        "# BOX-PLOT DAS VARIÁVEIS EM BUSCA DE OUTLIERS\n",
        "v_cols2 = ['t_media', 't_minima', 't_maxima', 'precipitacao','consumo']\n",
        "ix = 1\n",
        "fig = plt.figure(figsize = (15,10))\n",
        "for c in list(v_cols2):\n",
        "    if ix <= 3:\n",
        "      ax1 = fig.add_subplot(2,3,ix)\n",
        "      sns.boxplot(y=df[c], ax=ax1)\n",
        "      ax1.set_title('Box plot - {}'.format(c), fontsize=10)\n",
        "      ax1.set_xlabel(c, fontsize=8)\n",
        "    ix = ix +1\n",
        "    if ix == 4: \n",
        "        fig = plt.figure(figsize = (15,10))\n",
        "        ix =1"
      ],
      "execution_count": 35,
      "outputs": [
        {
          "output_type": "display_data",
          "data": {
            "image/png": "[encoded data removed]",
            "text/plain": [
              "<Figure size 1080x720 with 3 Axes>"
            ]
          },
          "metadata": {
            "tags": []
          }
        },
        {
          "output_type": "display_data",
          "data": {
            "image/png": "[encoded data removed]",
            "text/plain": [
              "<Figure size 1080x720 with 2 Axes>"
            ]
          },
          "metadata": {
            "tags": []
          }
        }
      ]
    },
    {
      "cell_type": "code",
      "metadata": {
        "id": "LQ4W0ljK_2up",
        "colab_type": "code",
        "colab": {}
      },
      "source": [
        "# VERIFICANDO A CORRELAÇÃO ENTRE AS VARIÁVEIS\n",
        "plt.figure(figsize=(15,3))\n",
        "sns.heatmap(df.corr(),annot=True)"
      ],
      "execution_count": 0,
      "outputs": []
    },
    {
      "cell_type": "code",
      "metadata": {
        "id": "BVevhxaq_3HI",
        "colab_type": "code",
        "colab": {
          "base_uri": "https://localhost:8080/",
          "height": 602
        },
        "outputId": "895f6803-0f3b-4056-c1e5-11795fed1e7d"
      },
      "source": [
        "# VERIFICANDO A RELAÇÃO DAS VARIÁVEIS INDEPENDENTES COM A VARIÁVEL DEPENDENTE\n",
        "ix = 1\n",
        "fig = plt.figure(figsize = (15,10))\n",
        "for c in list(v_cols2):\n",
        "    if ix <= 3:\n",
        "      if c != v_answer:\n",
        "        ax1 = fig.add_subplot(2,3,ix)\n",
        "        sns.scatterplot(x=df[c],y=df[v_answer],s=100)\n",
        "    ix = ix +1\n",
        "    if ix == 4: \n",
        "        fig = plt.figure(figsize = (15,10))\n",
        "        ix =1"
      ],
      "execution_count": 36,
      "outputs": [
        {
          "output_type": "display_data",
          "data": {
            "image/png": "[encoded data removed]",
            "text/plain": [
              "<Figure size 1080x720 with 3 Axes>"
            ]
          },
          "metadata": {
            "tags": []
          }
        },
        {
          "output_type": "display_data",
          "data": {
            "image/png": "[encoded data removed]",
            "text/plain": [
              "<Figure size 1080x720 with 1 Axes>"
            ]
          },
          "metadata": {
            "tags": []
          }
        }
      ]
    },
    {
      "cell_type": "code",
      "metadata": {
        "id": "zTSFTvoCR33O",
        "colab_type": "code",
        "colab": {}
      },
      "source": [
        ""
      ],
      "execution_count": 0,
      "outputs": []
    },
    {
      "cell_type": "code",
      "metadata": {
        "id": "DJsDM510R39r",
        "colab_type": "code",
        "colab": {
          "base_uri": "https://localhost:8080/",
          "height": 442
        },
        "outputId": "db35aa12-06bc-430d-950e-a02fe04c8f17"
      },
      "source": [
        "# REGRESSÃO LINEAR SIMPLES\n",
        "lr = LinearRegression()\n",
        "\n",
        "for i in v_cols2:\n",
        "  v_x = df[i].values.reshape(-1,1)\n",
        "  lr.fit(v_x,df[v_answer])\n",
        "  v_erro = mean_squared_error(df.consumo,lr.predict(v_x))\n",
        "  print(i.upper(),'\\nMeu erro foi de\\t',round(v_erro,2),'\\nNa mesma ordem\\t',round(np.sqrt(v_erro),2),'\\n\\t\\t',lr.coef_,lr.intercept_,'\\n')"
      ],
      "execution_count": 85,
      "outputs": [
        {
          "output_type": "stream",
          "text": [
            "T_MEDIA \n",
            "Meu erro foi de\t 12927108.73 \n",
            "Na mesma ordem\t 3595.43 \n",
            "\t\t [794.882537] 8528.907283985503 \n",
            "\n",
            "T_MINIMA \n",
            "Meu erro foi de\t 16326104.98 \n",
            "Na mesma ordem\t 4040.56 \n",
            "\t\t [610.96562166] 14733.070429821966 \n",
            "\n",
            "T_MAXIMA \n",
            "Meu erro foi de\t 11328230.34 \n",
            "Na mesma ordem\t 3365.74 \n",
            "\t\t [654.845584] 7974.9393794593125 \n",
            "\n",
            "PRECIPITACAO \n",
            "Meu erro foi de\t 18574696.79 \n",
            "Na mesma ordem\t 4309.84 \n",
            "\t\t [-68.649986] 25758.12135191357 \n",
            "\n",
            "CONSUMO \n",
            "Meu erro foi de\t 0.0 \n",
            "Na mesma ordem\t 0.0 \n",
            "\t\t [1.] -7.275957614183426e-12 \n",
            "\n"
          ],
          "name": "stdout"
        }
      ]
    },
    {
      "cell_type": "code",
      "metadata": {
        "id": "CoGihUYpUcTC",
        "colab_type": "code",
        "colab": {
          "base_uri": "https://localhost:8080/",
          "height": 34
        },
        "outputId": "f33208cd-5326-4933-b1cd-c36c14a3fa25"
      },
      "source": [
        "lr"
      ],
      "execution_count": 84,
      "outputs": [
        {
          "output_type": "execute_result",
          "data": {
            "text/plain": [
              "LinearRegression(copy_X=True, fit_intercept=True, n_jobs=None, normalize=False)"
            ]
          },
          "metadata": {
            "tags": []
          },
          "execution_count": 84
        }
      ]
    },
    {
      "cell_type": "code",
      "metadata": {
        "id": "170INkmzR4Jd",
        "colab_type": "code",
        "colab": {
          "base_uri": "https://localhost:8080/",
          "height": 187
        },
        "outputId": "e9af06e1-7029-4101-d22f-97b8aa8b7966"
      },
      "source": [
        "for i in range(10):\n",
        "  print(f'Predizendo para x ={i} -- Resultado {lr.predict([[i]])}')"
      ],
      "execution_count": 52,
      "outputs": [
        {
          "output_type": "stream",
          "text": [
            "Predizendo para x =0 -- Resultado [7974.93937946]\n",
            "Predizendo para x =1 -- Resultado [8629.78496346]\n",
            "Predizendo para x =2 -- Resultado [9284.63054746]\n",
            "Predizendo para x =3 -- Resultado [9939.47613146]\n",
            "Predizendo para x =4 -- Resultado [10594.32171545]\n",
            "Predizendo para x =5 -- Resultado [11249.16729945]\n",
            "Predizendo para x =6 -- Resultado [11904.01288345]\n",
            "Predizendo para x =7 -- Resultado [12558.85846745]\n",
            "Predizendo para x =8 -- Resultado [13213.70405145]\n",
            "Predizendo para x =9 -- Resultado [13868.54963545]\n"
          ],
          "name": "stdout"
        }
      ]
    },
    {
      "cell_type": "code",
      "metadata": {
        "id": "Y9RN-3LzGUTc",
        "colab_type": "code",
        "colab": {
          "base_uri": "https://localhost:8080/",
          "height": 515
        },
        "outputId": "4294351d-19aa-4594-c369-5dc31027311e"
      },
      "source": [
        "# PLOTAR UM GRÁFICO DE REGRESSÃO\n",
        "lr.fit(df['t_maxima'].values.reshape(-1,1),df.consumo)\n",
        "y_pred= [lr.predict([[x]])[0] for x in df.t_maxima]\n",
        "\n",
        "plt.figure(figsize=(15,8))\n",
        "sns.scatterplot(x=df.t_maxima,y=df.consumo,s=100)\n",
        "sns.lineplot(x=df.t_maxima,y=y_pred,color='tab:orange')\n",
        "plt.show"
      ],
      "execution_count": 59,
      "outputs": [
        {
          "output_type": "execute_result",
          "data": {
            "text/plain": [
              "<function matplotlib.pyplot.show>"
            ]
          },
          "metadata": {
            "tags": []
          },
          "execution_count": 59
        },
        {
          "output_type": "display_data",
          "data": {
            "image/png": "[encoded data removed]",
            "text/plain": [
              "<Figure size 1080x576 with 1 Axes>"
            ]
          },
          "metadata": {
            "tags": []
          }
        }
      ]
    },
    {
      "cell_type": "code",
      "metadata": {
        "id": "CO8Xr4ArGUey",
        "colab_type": "code",
        "colab": {
          "base_uri": "https://localhost:8080/",
          "height": 34
        },
        "outputId": "281b2c8b-ebac-48d3-f2d5-3e6b3f6b3380"
      },
      "source": [
        "from sklearn.metrics import mean_squared_error\n",
        "mean_squared_error(df.consumo,lr.predict((df.t_maxima).values.reshape(-1,1)))"
      ],
      "execution_count": 63,
      "outputs": [
        {
          "output_type": "execute_result",
          "data": {
            "text/plain": [
              "11328230.341613485"
            ]
          },
          "metadata": {
            "tags": []
          },
          "execution_count": 63
        }
      ]
    },
    {
      "cell_type": "code",
      "metadata": {
        "id": "g2Wm_eMkGUpH",
        "colab_type": "code",
        "colab": {}
      },
      "source": [
        "# ENCONTRANDO A MÉTRICA MSE --\n",
        "def nosso_mean(y_real,y_pred):\n",
        "  return((y_real - y_pred)**2).mean()"
      ],
      "execution_count": 0,
      "outputs": []
    },
    {
      "cell_type": "code",
      "metadata": {
        "id": "WDp5nC6qGU0i",
        "colab_type": "code",
        "colab": {}
      },
      "source": [
        ""
      ],
      "execution_count": 0,
      "outputs": []
    },
    {
      "cell_type": "code",
      "metadata": {
        "id": "kD332C0gGU61",
        "colab_type": "code",
        "colab": {}
      },
      "source": [
        ""
      ],
      "execution_count": 0,
      "outputs": []
    },
    {
      "cell_type": "code",
      "metadata": {
        "id": "yjNcQwy6GU_r",
        "colab_type": "code",
        "colab": {}
      },
      "source": [
        ""
      ],
      "execution_count": 0,
      "outputs": []
    },
    {
      "cell_type": "code",
      "metadata": {
        "id": "W7TNyzA-GVEv",
        "colab_type": "code",
        "colab": {}
      },
      "source": [
        ""
      ],
      "execution_count": 0,
      "outputs": []
    },
    {
      "cell_type": "code",
      "metadata": {
        "id": "F7e_WPvBR4PV",
        "colab_type": "code",
        "colab": {}
      },
      "source": [
        ""
      ],
      "execution_count": 0,
      "outputs": []
    },
    {
      "cell_type": "code",
      "metadata": {
        "id": "RRWlebwg_3Sp",
        "colab_type": "code",
        "colab": {}
      },
      "source": [
        ""
      ],
      "execution_count": 0,
      "outputs": []
    },
    {
      "cell_type": "code",
      "metadata": {
        "id": "M8WQn0e7R5aX",
        "colab_type": "code",
        "colab": {}
      },
      "source": [
        "# CRIAÇÃO DE NOVAS FEATURES\n",
        "df['data_dia']        = df['data'].dt.day\n",
        "df['data_mes']        = df['data'].dt.month\n",
        "df['data_nrsemana']   = df['data'].dt.week\n",
        "df['data_diasemana']  = df['data'].dt.dayofweek"
      ],
      "execution_count": 0,
      "outputs": []
    },
    {
      "cell_type": "markdown",
      "metadata": {
        "id": "LVOSyxKaSaSd",
        "colab_type": "text"
      },
      "source": [
        "# PONTOS ADICIONAIS QUE PODEM SER ÚTEIS"
      ]
    },
    {
      "cell_type": "code",
      "metadata": {
        "id": "EayfuBgz_3bY",
        "colab_type": "code",
        "colab": {}
      },
      "source": [
        "# OPÇÕES DE TRANSFORMAR OS VALORES DE UMA COLUNA EM LETRAS MINUSCULAS\n",
        "df['A'] = df['A'].str.lower()\n",
        "df['A'].apply(lambda x: x.lower()) \n",
        "data.columns = [x.lower() for x in data.columns]\n",
        "df.columns = map(str.lower, df.columns)"
      ],
      "execution_count": 0,
      "outputs": []
    },
    {
      "cell_type": "code",
      "metadata": {
        "id": "lMbJ33vI_ult",
        "colab_type": "code",
        "colab": {}
      },
      "source": [
        "# GRÁFICO DE DISTRIBUIÇÃO, MAS ME PARECE SER MAIS INTERESSANTE PARA VARIÁVEIS CATEGORICAS\n",
        "ix = 1\n",
        "fig = plt.figure(figsize = (15,10))\n",
        "for c in list(df.columns):\n",
        "    if ix <= 3:\n",
        "        if c != 'Outcome':\n",
        "            ax1 = fig.add_subplot(2,3,ix)\n",
        "            sns.countplot(data = df, x=c, ax = ax1)\n",
        "            #ax2 = fig.add_subplot(2,3,ix+3)\n",
        "            #sns.boxplot(data=df, x=c, y='Outcome', ax=ax2)\n",
        "            #sns.violinplot(data=df, x=c, y='Outcome', ax=ax2)\n",
        "            #sns.swarmplot(data = df, x=c, y ='Outcome', color = 'k', alpha = 0.4, ax=ax2)\n",
        "            \n",
        "    ix = ix +1\n",
        "    if ix == 4: \n",
        "        fig = plt.figure(figsize = (15,10))\n",
        "        ix =1"
      ],
      "execution_count": 0,
      "outputs": []
    },
    {
      "cell_type": "code",
      "metadata": {
        "id": "gEeFCgAoEhdo",
        "colab_type": "code",
        "colab": {}
      },
      "source": [
        "#@title Apresentando um relatório geral dos dados e ordenando pelo percentual de missing values\n",
        "df_stats = pd.DataFrame(columns = ['column', 'values', 'values_count_inc_na', 'values_count', 'num_miss', 'pct_miss'])\n",
        "tmp = pd.DataFrame()\n",
        "for c in df.columns:\n",
        "    tmp['column'] = [c]\n",
        "    tmp['values'] = [df[c].unique()]\n",
        "    tmp['values_count_inc_na'] = len(list(df[c].unique()))\n",
        "    tmp['values_count'] = int(df[c].nunique())\n",
        "    tmp['num_miss'] = df[c].isnull().sum()\n",
        "    tmp['pct_miss'] = (df[c].isnull().sum()/ len(df)).round(3)*100\n",
        "    df_stats = df_stats.append(tmp)\n",
        "\n",
        "df_stats.sort_values(by = 'pct_miss', inplace = True, ascending = True)    \n",
        "df_stats"
      ],
      "execution_count": 0,
      "outputs": []
    },
    {
      "cell_type": "code",
      "metadata": {
        "id": "AnSDDqzBEiBI",
        "colab_type": "code",
        "colab": {}
      },
      "source": [
        "# VERIFICA A RELAÇÃO DA VARIÁVEL INDEPENDENTE COM A VARIÁVEL RESPOSTA\n",
        "sns.boxplot(data = df, x='age', y='outcome')"
      ],
      "execution_count": 0,
      "outputs": []
    },
    {
      "cell_type": "code",
      "metadata": {
        "id": "cV7wv94FEia4",
        "colab_type": "code",
        "colab": {}
      },
      "source": [
        "# GRÁFICO PARA IDENTIFICAÇÃO DE OUTLIERS\n",
        "def percentile_based_outlier(data, threshold=95):\n",
        "    diff = (100 - threshold) / 2\n",
        "    minval, maxval = np.percentile(data, [diff, 100 - diff])\n",
        "    return (data < minval) | (data > maxval)\n",
        "\n",
        "col_names = v_cols\n",
        "\n",
        "fig, ax = plt.subplots(len(col_names), figsize=(8,40))\n",
        "\n",
        "for i, col_val in enumerate(col_names):\n",
        "    x = df[col_val][:1000]\n",
        "    sns.distplot(x, ax=ax[i], rug=True, hist=False)\n",
        "    outliers = x[percentile_based_outlier(x)]\n",
        "    ax[i].plot(outliers, np.zeros_like(outliers), 'ro', clip_on=False)\n",
        "\n",
        "    ax[i].set_title('Outlier detection - {}'.format(col_val), fontsize=10)\n",
        "    ax[i].set_xlabel(col_val, fontsize=8)\n",
        "\n",
        "plt.show()"
      ],
      "execution_count": 0,
      "outputs": []
    },
    {
      "cell_type": "code",
      "metadata": {
        "id": "ZkXzKYkIEivY",
        "colab_type": "code",
        "colab": {}
      },
      "source": [
        "# Keep only the rows with at least 4 non-na values\n",
        "df.dropna(thresh = 4,inplace = True)"
      ],
      "execution_count": 0,
      "outputs": []
    },
    {
      "cell_type": "code",
      "metadata": {
        "id": "LPFuilqhEi1t",
        "colab_type": "code",
        "colab": {}
      },
      "source": [
        ""
      ],
      "execution_count": 0,
      "outputs": []
    },
    {
      "cell_type": "code",
      "metadata": {
        "id": "vtU3rmHXEi7n",
        "colab_type": "code",
        "colab": {}
      },
      "source": [
        ""
      ],
      "execution_count": 0,
      "outputs": []
    },
    {
      "cell_type": "code",
      "metadata": {
        "id": "a2eOQivSEi_m",
        "colab_type": "code",
        "colab": {}
      },
      "source": [
        ""
      ],
      "execution_count": 0,
      "outputs": []
    }
  ]
}