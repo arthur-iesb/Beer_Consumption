{
  "nbformat": 4,
  "nbformat_minor": 0,
  "metadata": {
    "colab": {
      "name": "Beer_Consumption.ipynb",
      "provenance": [],
      "mount_file_id": "https://github.com/arthur-iesb/Beer_Consumption/blob/master/Beer_Consuption.ipynb",
      "authorship_tag": "ABX9TyNLVSIlnj6iR7s27lgsSF5K"
    },
    "kernelspec": {
      "name": "python3",
      "display_name": "Python 3"
    }
  },
  "cells": [
    {
      "cell_type": "markdown",
      "metadata": {
        "id": "LgrKzPCSp676",
        "colab_type": "text"
      },
      "source": [
        "## INFORMAÇÕES DO ALUNO"
      ]
    },
    {
      "cell_type": "code",
      "metadata": {
        "id": "EbWoRD1rp2S_",
        "colab_type": "code",
        "colab": {}
      },
      "source": [
        "'''\n",
        "SOFTWARES PARA USO EM CIÊNCIA DE DADOS II\n",
        "PROJETO 02/02 - Beer Consumption\n",
        "PROFESSOR: NASSER BOAN\n",
        "ALUNO: ARTHUR FARIAS\n",
        "MATRÍCULA: 1931133115\n",
        "'''"
      ],
      "execution_count": 0,
      "outputs": []
    },
    {
      "cell_type": "markdown",
      "metadata": {
        "id": "r0FlQL_sqKsr",
        "colab_type": "text"
      },
      "source": [
        "# IMPORTANDO DATASET E BIBLIOTECAS"
      ]
    },
    {
      "cell_type": "markdown",
      "metadata": {
        "id": "RVwFDKmmqL4N",
        "colab_type": "text"
      },
      "source": [
        "## Bibliotecas"
      ]
    },
    {
      "cell_type": "code",
      "metadata": {
        "id": "6aKJ8NeOqGy7",
        "colab_type": "code",
        "colab": {
          "base_uri": "https://localhost:8080/",
          "height": 51
        },
        "outputId": "53aea58a-5897-42ef-ab19-16b2492e911b"
      },
      "source": [
        "## IMPORTANDO AS BIBLIOTECAS QUE SERÃO UTILIZADAS NO PROJETO ##\n",
        "import pandas as pd\n",
        "import numpy as np\n",
        "import datetime\n",
        "import matplotlib.pyplot as plt\n",
        "import seaborn as sns\n",
        "\n",
        "# Comment this if the data visualisations doesn't work on your side\n",
        "# %matplotlib inline\n",
        "\n",
        "# We are using whitegrid style for our seaborn plots. This is like the most basic one\n",
        "sns.set_style(style = 'whitegrid')"
      ],
      "execution_count": 1,
      "outputs": [
        {
          "output_type": "stream",
          "text": [
            "/usr/local/lib/python3.6/dist-packages/statsmodels/tools/_testing.py:19: FutureWarning: pandas.util.testing is deprecated. Use the functions in the public API at pandas.testing instead.\n",
            "  import pandas.util.testing as tm\n"
          ],
          "name": "stderr"
        }
      ]
    },
    {
      "cell_type": "markdown",
      "metadata": {
        "id": "d3VTeTM0qvsl",
        "colab_type": "text"
      },
      "source": [
        "## Dataset"
      ]
    },
    {
      "cell_type": "code",
      "metadata": {
        "id": "eCwMU1ozqX3L",
        "colab_type": "code",
        "colab": {
          "base_uri": "https://localhost:8080/",
          "height": 142
        },
        "outputId": "2b6df160-b068-4fcd-a125-3ec56b87b648"
      },
      "source": [
        "## IMPORTANDO A BASE E REALIZANDO OS TRATAMENTOS INICIAIS\n",
        "df = pd.read_csv('/content/drive/My Drive/git/Beer_Consumption/data/Consumo_cerveja.csv',sep=',',encoding='iso-8859-1')\n",
        "df.columns = [x.lower() for x in df.columns]\n",
        "df_columns = df.columns\n",
        "df.head(3)"
      ],
      "execution_count": 8,
      "outputs": [
        {
          "output_type": "execute_result",
          "data": {
            "text/html": [
              "<div>\n",
              "<style scoped>\n",
              "    .dataframe tbody tr th:only-of-type {\n",
              "        vertical-align: middle;\n",
              "    }\n",
              "\n",
              "    .dataframe tbody tr th {\n",
              "        vertical-align: top;\n",
              "    }\n",
              "\n",
              "    .dataframe thead th {\n",
              "        text-align: right;\n",
              "    }\n",
              "</style>\n",
              "<table border=\"1\" class=\"dataframe\">\n",
              "  <thead>\n",
              "    <tr style=\"text-align: right;\">\n",
              "      <th></th>\n",
              "      <th>data</th>\n",
              "      <th>temperatura media (c)</th>\n",
              "      <th>temperatura minima (c)</th>\n",
              "      <th>temperatura maxima (c)</th>\n",
              "      <th>precipitacao (mm)</th>\n",
              "      <th>final de semana</th>\n",
              "      <th>consumo de cerveja (litros)</th>\n",
              "    </tr>\n",
              "  </thead>\n",
              "  <tbody>\n",
              "    <tr>\n",
              "      <th>0</th>\n",
              "      <td>2015-01-01</td>\n",
              "      <td>27,3</td>\n",
              "      <td>23,9</td>\n",
              "      <td>32,5</td>\n",
              "      <td>0</td>\n",
              "      <td>0.0</td>\n",
              "      <td>25.461</td>\n",
              "    </tr>\n",
              "    <tr>\n",
              "      <th>1</th>\n",
              "      <td>2015-01-02</td>\n",
              "      <td>27,02</td>\n",
              "      <td>24,5</td>\n",
              "      <td>33,5</td>\n",
              "      <td>0</td>\n",
              "      <td>0.0</td>\n",
              "      <td>28.972</td>\n",
              "    </tr>\n",
              "    <tr>\n",
              "      <th>2</th>\n",
              "      <td>2015-01-03</td>\n",
              "      <td>24,82</td>\n",
              "      <td>22,4</td>\n",
              "      <td>29,9</td>\n",
              "      <td>0</td>\n",
              "      <td>1.0</td>\n",
              "      <td>30.814</td>\n",
              "    </tr>\n",
              "  </tbody>\n",
              "</table>\n",
              "</div>"
            ],
            "text/plain": [
              "         data  ... consumo de cerveja (litros)\n",
              "0  2015-01-01  ...                      25.461\n",
              "1  2015-01-02  ...                      28.972\n",
              "2  2015-01-03  ...                      30.814\n",
              "\n",
              "[3 rows x 7 columns]"
            ]
          },
          "metadata": {
            "tags": []
          },
          "execution_count": 8
        }
      ]
    },
    {
      "cell_type": "code",
      "metadata": {
        "id": "y45vRf_24hc7",
        "colab_type": "code",
        "colab": {
          "base_uri": "https://localhost:8080/",
          "height": 142
        },
        "outputId": "3601bfb0-c0fb-4f27-c444-ae612b5148d9"
      },
      "source": [
        "# MELHORANDO O NOME DAS VARIÁVEIS\n",
        "df.columns = ['data', 't_media', 't_minima', 't_maxima', 'precipitacao', 'fim_semana', 'consumo']\n",
        "df_columns = df.columns\n",
        "df.head(3)"
      ],
      "execution_count": 9,
      "outputs": [
        {
          "output_type": "execute_result",
          "data": {
            "text/html": [
              "<div>\n",
              "<style scoped>\n",
              "    .dataframe tbody tr th:only-of-type {\n",
              "        vertical-align: middle;\n",
              "    }\n",
              "\n",
              "    .dataframe tbody tr th {\n",
              "        vertical-align: top;\n",
              "    }\n",
              "\n",
              "    .dataframe thead th {\n",
              "        text-align: right;\n",
              "    }\n",
              "</style>\n",
              "<table border=\"1\" class=\"dataframe\">\n",
              "  <thead>\n",
              "    <tr style=\"text-align: right;\">\n",
              "      <th></th>\n",
              "      <th>data</th>\n",
              "      <th>t_media</th>\n",
              "      <th>t_minima</th>\n",
              "      <th>t_maxima</th>\n",
              "      <th>precipitacao</th>\n",
              "      <th>fim_semana</th>\n",
              "      <th>consumo</th>\n",
              "    </tr>\n",
              "  </thead>\n",
              "  <tbody>\n",
              "    <tr>\n",
              "      <th>0</th>\n",
              "      <td>2015-01-01</td>\n",
              "      <td>27,3</td>\n",
              "      <td>23,9</td>\n",
              "      <td>32,5</td>\n",
              "      <td>0</td>\n",
              "      <td>0.0</td>\n",
              "      <td>25.461</td>\n",
              "    </tr>\n",
              "    <tr>\n",
              "      <th>1</th>\n",
              "      <td>2015-01-02</td>\n",
              "      <td>27,02</td>\n",
              "      <td>24,5</td>\n",
              "      <td>33,5</td>\n",
              "      <td>0</td>\n",
              "      <td>0.0</td>\n",
              "      <td>28.972</td>\n",
              "    </tr>\n",
              "    <tr>\n",
              "      <th>2</th>\n",
              "      <td>2015-01-03</td>\n",
              "      <td>24,82</td>\n",
              "      <td>22,4</td>\n",
              "      <td>29,9</td>\n",
              "      <td>0</td>\n",
              "      <td>1.0</td>\n",
              "      <td>30.814</td>\n",
              "    </tr>\n",
              "  </tbody>\n",
              "</table>\n",
              "</div>"
            ],
            "text/plain": [
              "         data t_media t_minima t_maxima precipitacao  fim_semana  consumo\n",
              "0  2015-01-01    27,3     23,9     32,5            0         0.0   25.461\n",
              "1  2015-01-02   27,02     24,5     33,5            0         0.0   28.972\n",
              "2  2015-01-03   24,82     22,4     29,9            0         1.0   30.814"
            ]
          },
          "metadata": {
            "tags": []
          },
          "execution_count": 9
        }
      ]
    },
    {
      "cell_type": "code",
      "metadata": {
        "id": "Yy0AG2H_XeaU",
        "colab_type": "code",
        "colab": {}
      },
      "source": [
        "# DICIONÁRIO DE DADOS\n",
        "\n",
        "'''\n",
        "data            Data\n",
        "t_media         Temperatura Media (C)\n",
        "t_minima        Temperatura Minima (C)\n",
        "t_maxima        Temperatura Maxima (C)\n",
        "precipitacao    Precipitacao (mm)\n",
        "fim_semana      Final de Semana\n",
        "consumo         Consumo de cerveja (litros)\n",
        "'''"
      ],
      "execution_count": 0,
      "outputs": []
    },
    {
      "cell_type": "markdown",
      "metadata": {
        "id": "pX2U4nBMq--3",
        "colab_type": "text"
      },
      "source": [
        "# ANÁLISE EXPLORATÓRIA"
      ]
    },
    {
      "cell_type": "code",
      "metadata": {
        "id": "ULikslzzrE8w",
        "colab_type": "code",
        "colab": {
          "base_uri": "https://localhost:8080/",
          "height": 34
        },
        "outputId": "14a0030e-6b1b-4144-f8d1-6f68c798e983"
      },
      "source": [
        "# VERIFICANDO O SHAPE DO DATASET E CRIANDO VARIÁVEIS\n",
        "n_rows = df.shape[0]\n",
        "n_cols = df.shape[1]\n",
        "v_cols = df.columns\n",
        "v_answer = 'consumo'\n",
        "print('O Dataset possui' , n_rows, 'linhas e' , n_cols , 'colunas.')"
      ],
      "execution_count": 10,
      "outputs": [
        {
          "output_type": "stream",
          "text": [
            "O Dataset possui 941 linhas e 7 colunas.\n"
          ],
          "name": "stdout"
        }
      ]
    },
    {
      "cell_type": "code",
      "metadata": {
        "id": "oU9YRAVmqFLF",
        "colab_type": "code",
        "colab": {
          "base_uri": "https://localhost:8080/",
          "height": 255
        },
        "outputId": "38821b56-d1fa-4ee5-a5d6-246beb4a767c"
      },
      "source": [
        "# VERIFICANDO INFORMAÇÕES DO DATASET\n",
        "df.info(verbose=True)"
      ],
      "execution_count": 11,
      "outputs": [
        {
          "output_type": "stream",
          "text": [
            "<class 'pandas.core.frame.DataFrame'>\n",
            "RangeIndex: 941 entries, 0 to 940\n",
            "Data columns (total 7 columns):\n",
            " #   Column        Non-Null Count  Dtype  \n",
            "---  ------        --------------  -----  \n",
            " 0   data          365 non-null    object \n",
            " 1   t_media       365 non-null    object \n",
            " 2   t_minima      365 non-null    object \n",
            " 3   t_maxima      365 non-null    object \n",
            " 4   precipitacao  365 non-null    object \n",
            " 5   fim_semana    365 non-null    float64\n",
            " 6   consumo       365 non-null    float64\n",
            "dtypes: float64(2), object(5)\n",
            "memory usage: 51.6+ KB\n"
          ],
          "name": "stdout"
        }
      ]
    },
    {
      "cell_type": "code",
      "metadata": {
        "id": "wZyoAabyq0aJ",
        "colab_type": "code",
        "colab": {
          "base_uri": "https://localhost:8080/",
          "height": 357
        },
        "outputId": "c4a18491-26dd-4294-e8db-f8456e12d2f0"
      },
      "source": [
        "# IDENTIFICANDO VALORES NULOS\n",
        "if df.isnull().values.any() == True:\n",
        "  print(df.isna().sum(), '\\n\\n\\nVALORES PERCENTUAIS DE NULO\\n')\n",
        "  print((df.isnull().sum()/n_rows).round(2)*100)\n",
        "else:\n",
        "  print('O Dataset não possui valores nulos.')"
      ],
      "execution_count": 12,
      "outputs": [
        {
          "output_type": "stream",
          "text": [
            "data            576\n",
            "t_media         576\n",
            "t_minima        576\n",
            "t_maxima        576\n",
            "precipitacao    576\n",
            "fim_semana      576\n",
            "consumo         576\n",
            "dtype: int64 \n",
            "\n",
            "\n",
            "VALORES PERCENTUAIS DE NULO\n",
            "\n",
            "data            61.0\n",
            "t_media         61.0\n",
            "t_minima        61.0\n",
            "t_maxima        61.0\n",
            "precipitacao    61.0\n",
            "fim_semana      61.0\n",
            "consumo         61.0\n",
            "dtype: float64\n"
          ],
          "name": "stdout"
        }
      ]
    },
    {
      "cell_type": "code",
      "metadata": {
        "id": "aOngGIafrKFa",
        "colab_type": "code",
        "colab": {
          "base_uri": "https://localhost:8080/",
          "height": 142
        },
        "outputId": "e223d65a-ca94-4565-bc9c-a5892f7811d2"
      },
      "source": [
        "# CRIANDO DATASET'S PARA VARIÁVEIS CATEGORICAS - CASO EXISTAM\n",
        "df_cat = df.select_dtypes(include = 'object').copy()\n",
        "df_cat.head(3)"
      ],
      "execution_count": 13,
      "outputs": [
        {
          "output_type": "execute_result",
          "data": {
            "text/html": [
              "<div>\n",
              "<style scoped>\n",
              "    .dataframe tbody tr th:only-of-type {\n",
              "        vertical-align: middle;\n",
              "    }\n",
              "\n",
              "    .dataframe tbody tr th {\n",
              "        vertical-align: top;\n",
              "    }\n",
              "\n",
              "    .dataframe thead th {\n",
              "        text-align: right;\n",
              "    }\n",
              "</style>\n",
              "<table border=\"1\" class=\"dataframe\">\n",
              "  <thead>\n",
              "    <tr style=\"text-align: right;\">\n",
              "      <th></th>\n",
              "      <th>data</th>\n",
              "      <th>t_media</th>\n",
              "      <th>t_minima</th>\n",
              "      <th>t_maxima</th>\n",
              "      <th>precipitacao</th>\n",
              "    </tr>\n",
              "  </thead>\n",
              "  <tbody>\n",
              "    <tr>\n",
              "      <th>0</th>\n",
              "      <td>2015-01-01</td>\n",
              "      <td>27,3</td>\n",
              "      <td>23,9</td>\n",
              "      <td>32,5</td>\n",
              "      <td>0</td>\n",
              "    </tr>\n",
              "    <tr>\n",
              "      <th>1</th>\n",
              "      <td>2015-01-02</td>\n",
              "      <td>27,02</td>\n",
              "      <td>24,5</td>\n",
              "      <td>33,5</td>\n",
              "      <td>0</td>\n",
              "    </tr>\n",
              "    <tr>\n",
              "      <th>2</th>\n",
              "      <td>2015-01-03</td>\n",
              "      <td>24,82</td>\n",
              "      <td>22,4</td>\n",
              "      <td>29,9</td>\n",
              "      <td>0</td>\n",
              "    </tr>\n",
              "  </tbody>\n",
              "</table>\n",
              "</div>"
            ],
            "text/plain": [
              "         data t_media t_minima t_maxima precipitacao\n",
              "0  2015-01-01    27,3     23,9     32,5            0\n",
              "1  2015-01-02   27,02     24,5     33,5            0\n",
              "2  2015-01-03   24,82     22,4     29,9            0"
            ]
          },
          "metadata": {
            "tags": []
          },
          "execution_count": 13
        }
      ]
    },
    {
      "cell_type": "code",
      "metadata": {
        "id": "fA2aD9Hdrkoz",
        "colab_type": "code",
        "colab": {}
      },
      "source": [
        "# NÚMERO DE VALORES DISTINTOS NAS VARIÁVEIS\n",
        "print(df.nunique(),'\\n\\nRELAÇÃO DE VARIÁVEIS COM MENOS ATÉ 20 VALORES DISTINTOS')\n",
        "\n",
        "for i in v_cols:\n",
        "  if df[i].nunique() <= 20:\n",
        "    print(i,sorted(df[i].unique()))\n",
        "#    print(df[i].value_counts(dropna=False))"
      ],
      "execution_count": 0,
      "outputs": []
    },
    {
      "cell_type": "code",
      "metadata": {
        "id": "B9QWor-860_h",
        "colab_type": "code",
        "colab": {}
      },
      "source": [
        "# ESTATISTICA DESCRITIVA DOS DADOS\n",
        "df.describe(include='all').round(2)"
      ],
      "execution_count": 0,
      "outputs": []
    },
    {
      "cell_type": "code",
      "metadata": {
        "id": "_IHqymG98Bv2",
        "colab_type": "code",
        "colab": {}
      },
      "source": [
        "# ALTERANDO A VISÃO PARA MELHORAR A VISUALIZAÇÃO\n",
        "df.describe(include='all').round(2).T"
      ],
      "execution_count": 0,
      "outputs": []
    },
    {
      "cell_type": "code",
      "metadata": {
        "id": "1AjVUBzj8Z-W",
        "colab_type": "code",
        "colab": {}
      },
      "source": [
        "# GRÁFICO COM A DISTRIBUIÇÃO DOS VALORES\n",
        "gr_dist = df.hist(figsize = (20,15))"
      ],
      "execution_count": 0,
      "outputs": []
    },
    {
      "cell_type": "code",
      "metadata": {
        "id": "j9p4frMN92MB",
        "colab_type": "code",
        "colab": {}
      },
      "source": [
        "# BOX-PLOT DAS VARIÁVEIS EM BUSCA DE OUTLIERS\n",
        "ix = 1\n",
        "fig = plt.figure(figsize = (15,10))\n",
        "for c in list(v_cols):\n",
        "    if ix <= 3:\n",
        "      ax1 = fig.add_subplot(2,3,ix)\n",
        "      sns.boxplot(y=df[c], ax=ax1)\n",
        "      ax1.set_title('Box plot - {}'.format(c), fontsize=10)\n",
        "      ax1.set_xlabel(c, fontsize=8)\n",
        "    ix = ix +1\n",
        "    if ix == 4: \n",
        "        fig = plt.figure(figsize = (15,10))\n",
        "        ix =1"
      ],
      "execution_count": 0,
      "outputs": []
    },
    {
      "cell_type": "code",
      "metadata": {
        "id": "LQ4W0ljK_2up",
        "colab_type": "code",
        "colab": {}
      },
      "source": [
        "# VERIFICANDO A CORRELAÇÃO ENTRE AS VARIÁVEIS\n",
        "plt.figure(figsize=(15,3))\n",
        "sns.heatmap(df.corr(),annot=True)"
      ],
      "execution_count": 0,
      "outputs": []
    },
    {
      "cell_type": "code",
      "metadata": {
        "id": "BVevhxaq_3HI",
        "colab_type": "code",
        "colab": {}
      },
      "source": [
        ""
      ],
      "execution_count": 0,
      "outputs": []
    },
    {
      "cell_type": "code",
      "metadata": {
        "id": "ATKug1QzR3se",
        "colab_type": "code",
        "colab": {}
      },
      "source": [
        ""
      ],
      "execution_count": 0,
      "outputs": []
    },
    {
      "cell_type": "code",
      "metadata": {
        "id": "zTSFTvoCR33O",
        "colab_type": "code",
        "colab": {}
      },
      "source": [
        ""
      ],
      "execution_count": 0,
      "outputs": []
    },
    {
      "cell_type": "code",
      "metadata": {
        "id": "DJsDM510R39r",
        "colab_type": "code",
        "colab": {}
      },
      "source": [
        ""
      ],
      "execution_count": 0,
      "outputs": []
    },
    {
      "cell_type": "code",
      "metadata": {
        "id": "WFFf9S-AR4Dk",
        "colab_type": "code",
        "colab": {}
      },
      "source": [
        ""
      ],
      "execution_count": 0,
      "outputs": []
    },
    {
      "cell_type": "code",
      "metadata": {
        "id": "170INkmzR4Jd",
        "colab_type": "code",
        "colab": {}
      },
      "source": [
        ""
      ],
      "execution_count": 0,
      "outputs": []
    },
    {
      "cell_type": "code",
      "metadata": {
        "id": "F7e_WPvBR4PV",
        "colab_type": "code",
        "colab": {}
      },
      "source": [
        ""
      ],
      "execution_count": 0,
      "outputs": []
    },
    {
      "cell_type": "code",
      "metadata": {
        "id": "RRWlebwg_3Sp",
        "colab_type": "code",
        "colab": {}
      },
      "source": [
        ""
      ],
      "execution_count": 0,
      "outputs": []
    },
    {
      "cell_type": "code",
      "metadata": {
        "id": "M8WQn0e7R5aX",
        "colab_type": "code",
        "colab": {}
      },
      "source": [
        "# CRIAÇÃO DE NOVAS FEATURES\n",
        "df['data']            = pd.to_datetime(df.data, format='%Y-%m-%d')\n",
        "df['data_ano']        = df['data'].dt.year\n",
        "df['data_mes']        = df['data'].dt.month\n",
        "df['data_dia']        = df['data'].dt.day\n",
        "df['data_semana']     = df['data'].dt.week\n",
        "df['data_diasemana']  = df['data'].dt.dayofweek"
      ],
      "execution_count": 0,
      "outputs": []
    },
    {
      "cell_type": "markdown",
      "metadata": {
        "id": "LVOSyxKaSaSd",
        "colab_type": "text"
      },
      "source": [
        "# PONTOS ADICIONAIS QUE PODEM SER ÚTEIS"
      ]
    },
    {
      "cell_type": "code",
      "metadata": {
        "id": "EayfuBgz_3bY",
        "colab_type": "code",
        "colab": {}
      },
      "source": [
        "# OPÇÕES DE TRANSFORMAR OS VALORES DE UMA COLUNA EM LETRAS MINUSCULAS\n",
        "df['A'] = df['A'].str.lower()\n",
        "df['A'].apply(lambda x: x.lower()) \n",
        "data.columns = [x.lower() for x in data.columns]\n",
        "df.columns = map(str.lower, df.columns)"
      ],
      "execution_count": 0,
      "outputs": []
    },
    {
      "cell_type": "code",
      "metadata": {
        "id": "lMbJ33vI_ult",
        "colab_type": "code",
        "colab": {}
      },
      "source": [
        "# GRÁFICO DE DISTRIBUIÇÃO, MAS ME PARECE SER MAIS INTERESSANTE PARA VARIÁVEIS CATEGORICAS\n",
        "ix = 1\n",
        "fig = plt.figure(figsize = (15,10))\n",
        "for c in list(df.columns):\n",
        "    if ix <= 3:\n",
        "        if c != 'Outcome':\n",
        "            ax1 = fig.add_subplot(2,3,ix)\n",
        "            sns.countplot(data = df, x=c, ax = ax1)\n",
        "            #ax2 = fig.add_subplot(2,3,ix+3)\n",
        "            #sns.boxplot(data=df, x=c, y='Outcome', ax=ax2)\n",
        "            #sns.violinplot(data=df, x=c, y='Outcome', ax=ax2)\n",
        "            #sns.swarmplot(data = df, x=c, y ='Outcome', color = 'k', alpha = 0.4, ax=ax2)\n",
        "            \n",
        "    ix = ix +1\n",
        "    if ix == 4: \n",
        "        fig = plt.figure(figsize = (15,10))\n",
        "        ix =1"
      ],
      "execution_count": 0,
      "outputs": []
    },
    {
      "cell_type": "code",
      "metadata": {
        "id": "gEeFCgAoEhdo",
        "colab_type": "code",
        "colab": {}
      },
      "source": [
        "#@title Apresentando um relatório geral dos dados e ordenando pelo percentual de missing values\n",
        "df_stats = pd.DataFrame(columns = ['column', 'values', 'values_count_inc_na', 'values_count', 'num_miss', 'pct_miss'])\n",
        "tmp = pd.DataFrame()\n",
        "for c in df.columns:\n",
        "    tmp['column'] = [c]\n",
        "    tmp['values'] = [df[c].unique()]\n",
        "    tmp['values_count_inc_na'] = len(list(df[c].unique()))\n",
        "    tmp['values_count'] = int(df[c].nunique())\n",
        "    tmp['num_miss'] = df[c].isnull().sum()\n",
        "    tmp['pct_miss'] = (df[c].isnull().sum()/ len(df)).round(3)*100\n",
        "    df_stats = df_stats.append(tmp)\n",
        "\n",
        "df_stats.sort_values(by = 'pct_miss', inplace = True, ascending = True)    \n",
        "df_stats"
      ],
      "execution_count": 0,
      "outputs": []
    },
    {
      "cell_type": "code",
      "metadata": {
        "id": "AnSDDqzBEiBI",
        "colab_type": "code",
        "colab": {}
      },
      "source": [
        "# VERIFICA A RELAÇÃO DA VARIÁVEL INDEPENDENTE COM A VARIÁVEL RESPOSTA\n",
        "sns.boxplot(data = df, x='age', y='outcome')"
      ],
      "execution_count": 0,
      "outputs": []
    },
    {
      "cell_type": "code",
      "metadata": {
        "id": "cV7wv94FEia4",
        "colab_type": "code",
        "colab": {}
      },
      "source": [
        "# GRÁFICO PARA IDENTIFICAÇÃO DE OUTLIERS\n",
        "def percentile_based_outlier(data, threshold=95):\n",
        "    diff = (100 - threshold) / 2\n",
        "    minval, maxval = np.percentile(data, [diff, 100 - diff])\n",
        "    return (data < minval) | (data > maxval)\n",
        "\n",
        "col_names = v_cols\n",
        "\n",
        "fig, ax = plt.subplots(len(col_names), figsize=(8,40))\n",
        "\n",
        "for i, col_val in enumerate(col_names):\n",
        "    x = df[col_val][:1000]\n",
        "    sns.distplot(x, ax=ax[i], rug=True, hist=False)\n",
        "    outliers = x[percentile_based_outlier(x)]\n",
        "    ax[i].plot(outliers, np.zeros_like(outliers), 'ro', clip_on=False)\n",
        "\n",
        "    ax[i].set_title('Outlier detection - {}'.format(col_val), fontsize=10)\n",
        "    ax[i].set_xlabel(col_val, fontsize=8)\n",
        "\n",
        "plt.show()"
      ],
      "execution_count": 0,
      "outputs": []
    },
    {
      "cell_type": "code",
      "metadata": {
        "id": "ZkXzKYkIEivY",
        "colab_type": "code",
        "colab": {}
      },
      "source": [
        "# Keep only the rows with at least 4 non-na values\n",
        "df.dropna(thresh = 4,inplace = True)"
      ],
      "execution_count": 0,
      "outputs": []
    },
    {
      "cell_type": "code",
      "metadata": {
        "id": "LPFuilqhEi1t",
        "colab_type": "code",
        "colab": {}
      },
      "source": [
        ""
      ],
      "execution_count": 0,
      "outputs": []
    },
    {
      "cell_type": "code",
      "metadata": {
        "id": "vtU3rmHXEi7n",
        "colab_type": "code",
        "colab": {}
      },
      "source": [
        ""
      ],
      "execution_count": 0,
      "outputs": []
    },
    {
      "cell_type": "code",
      "metadata": {
        "id": "a2eOQivSEi_m",
        "colab_type": "code",
        "colab": {}
      },
      "source": [
        ""
      ],
      "execution_count": 0,
      "outputs": []
    }
  ]
}
